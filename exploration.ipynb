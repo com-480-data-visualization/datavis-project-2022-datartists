{
 "cells": [
  {
   "cell_type": "code",
   "execution_count": 1,
   "metadata": {},
   "outputs": [],
   "source": [
    "import pandas as pd\n",
    "import numpy as np\n",
    "import ast\n",
    "import matplotlib.pyplot as plt\n",
    "\n",
    "%load_ext autoreload\n",
    "%autoreload 2"
   ]
  },
  {
   "cell_type": "markdown",
   "metadata": {},
   "source": [
    "# 1. Loading the data"
   ]
  },
  {
   "cell_type": "code",
   "execution_count": 2,
   "metadata": {},
   "outputs": [
    {
     "name": "stderr",
     "output_type": "stream",
     "text": [
      "/Users/hugo/opt/anaconda3/envs/ada/lib/python3.8/site-packages/IPython/core/interactiveshell.py:3444: DtypeWarning: Columns (10) have mixed types.Specify dtype option on import or set low_memory=False.\n",
      "  exec(code_obj, self.user_global_ns, self.user_ns)\n"
     ]
    }
   ],
   "source": [
    "# reading the csv as data frames\n",
    "movies = pd.read_csv('data/movies_metadata.csv')\n",
    "credits = pd.read_csv('data/credits.csv')"
   ]
  },
  {
   "cell_type": "code",
   "execution_count": 3,
   "metadata": {},
   "outputs": [],
   "source": [
    "# set movie id as index\n",
    "movies.set_index('id', inplace=True)"
   ]
  },
  {
   "cell_type": "markdown",
   "metadata": {},
   "source": [
    "# 2. Genres"
   ]
  },
  {
   "cell_type": "code",
   "execution_count": 4,
   "metadata": {},
   "outputs": [],
   "source": [
    "# extract all genres\n",
    "genre_in_movie = []\n",
    "for _, row in movies.iterrows():\n",
    "    for g in ast.literal_eval(row.genres):\n",
    "        genre_in_movie.append([g[\"name\"], g[\"id\"]])"
   ]
  },
  {
   "cell_type": "code",
   "execution_count": 5,
   "metadata": {},
   "outputs": [],
   "source": [
    "# convert genre movie to dataframe\n",
    "genre_in_movie = pd.DataFrame(genre_in_movie)\n",
    "genre_in_movie.columns = [\"genre\", \"movie_id\"]"
   ]
  },
  {
   "cell_type": "code",
   "execution_count": 6,
   "metadata": {},
   "outputs": [],
   "source": [
    "# group genres and count number of movies + sort\n",
    "sorted_genres = genre_in_movie.groupby('genre').count().rename(columns={\"movie_id\": \"movie_count\"}).sort_values(by=\"movie_count\", ascending=False)"
   ]
  },
  {
   "cell_type": "code",
   "execution_count": 7,
   "metadata": {},
   "outputs": [],
   "source": [
    "# only keep relevant genres\n",
    "sorted_genres = sorted_genres[sorted_genres.values > 1]"
   ]
  },
  {
   "cell_type": "code",
   "execution_count": 8,
   "metadata": {},
   "outputs": [
    {
     "data": {
      "text/html": [
       "<div>\n",
       "<style scoped>\n",
       "    .dataframe tbody tr th:only-of-type {\n",
       "        vertical-align: middle;\n",
       "    }\n",
       "\n",
       "    .dataframe tbody tr th {\n",
       "        vertical-align: top;\n",
       "    }\n",
       "\n",
       "    .dataframe thead th {\n",
       "        text-align: right;\n",
       "    }\n",
       "</style>\n",
       "<table border=\"1\" class=\"dataframe\">\n",
       "  <thead>\n",
       "    <tr style=\"text-align: right;\">\n",
       "      <th></th>\n",
       "      <th>movie_count</th>\n",
       "    </tr>\n",
       "    <tr>\n",
       "      <th>genre</th>\n",
       "      <th></th>\n",
       "    </tr>\n",
       "  </thead>\n",
       "  <tbody>\n",
       "    <tr>\n",
       "      <th>Drama</th>\n",
       "      <td>20265</td>\n",
       "    </tr>\n",
       "    <tr>\n",
       "      <th>Comedy</th>\n",
       "      <td>13182</td>\n",
       "    </tr>\n",
       "    <tr>\n",
       "      <th>Thriller</th>\n",
       "      <td>7624</td>\n",
       "    </tr>\n",
       "    <tr>\n",
       "      <th>Romance</th>\n",
       "      <td>6735</td>\n",
       "    </tr>\n",
       "    <tr>\n",
       "      <th>Action</th>\n",
       "      <td>6596</td>\n",
       "    </tr>\n",
       "    <tr>\n",
       "      <th>Horror</th>\n",
       "      <td>4673</td>\n",
       "    </tr>\n",
       "    <tr>\n",
       "      <th>Crime</th>\n",
       "      <td>4307</td>\n",
       "    </tr>\n",
       "    <tr>\n",
       "      <th>Documentary</th>\n",
       "      <td>3932</td>\n",
       "    </tr>\n",
       "    <tr>\n",
       "      <th>Adventure</th>\n",
       "      <td>3496</td>\n",
       "    </tr>\n",
       "    <tr>\n",
       "      <th>Science Fiction</th>\n",
       "      <td>3049</td>\n",
       "    </tr>\n",
       "    <tr>\n",
       "      <th>Family</th>\n",
       "      <td>2770</td>\n",
       "    </tr>\n",
       "    <tr>\n",
       "      <th>Mystery</th>\n",
       "      <td>2467</td>\n",
       "    </tr>\n",
       "    <tr>\n",
       "      <th>Fantasy</th>\n",
       "      <td>2313</td>\n",
       "    </tr>\n",
       "    <tr>\n",
       "      <th>Animation</th>\n",
       "      <td>1935</td>\n",
       "    </tr>\n",
       "    <tr>\n",
       "      <th>Foreign</th>\n",
       "      <td>1622</td>\n",
       "    </tr>\n",
       "    <tr>\n",
       "      <th>Music</th>\n",
       "      <td>1598</td>\n",
       "    </tr>\n",
       "    <tr>\n",
       "      <th>History</th>\n",
       "      <td>1398</td>\n",
       "    </tr>\n",
       "    <tr>\n",
       "      <th>War</th>\n",
       "      <td>1323</td>\n",
       "    </tr>\n",
       "    <tr>\n",
       "      <th>Western</th>\n",
       "      <td>1042</td>\n",
       "    </tr>\n",
       "    <tr>\n",
       "      <th>TV Movie</th>\n",
       "      <td>767</td>\n",
       "    </tr>\n",
       "  </tbody>\n",
       "</table>\n",
       "</div>"
      ],
      "text/plain": [
       "                 movie_count\n",
       "genre                       \n",
       "Drama                  20265\n",
       "Comedy                 13182\n",
       "Thriller                7624\n",
       "Romance                 6735\n",
       "Action                  6596\n",
       "Horror                  4673\n",
       "Crime                   4307\n",
       "Documentary             3932\n",
       "Adventure               3496\n",
       "Science Fiction         3049\n",
       "Family                  2770\n",
       "Mystery                 2467\n",
       "Fantasy                 2313\n",
       "Animation               1935\n",
       "Foreign                 1622\n",
       "Music                   1598\n",
       "History                 1398\n",
       "War                     1323\n",
       "Western                 1042\n",
       "TV Movie                 767"
      ]
     },
     "execution_count": 8,
     "metadata": {},
     "output_type": "execute_result"
    }
   ],
   "source": [
    "# display genres by usage\n",
    "sorted_genres"
   ]
  },
  {
   "cell_type": "markdown",
   "metadata": {},
   "source": [
    "# 3. Actors and movies"
   ]
  },
  {
   "cell_type": "code",
   "execution_count": 9,
   "metadata": {},
   "outputs": [],
   "source": [
    "# extract all actors\n",
    "cast_in_movie = []\n",
    "for _, r in credits.cast.iteritems():\n",
    "    for g in ast.literal_eval(r):\n",
    "        cast_in_movie.append([g[\"name\"], g[\"id\"]])"
   ]
  },
  {
   "cell_type": "code",
   "execution_count": 10,
   "metadata": {},
   "outputs": [],
   "source": [
    "# convert actor movie to dataframe\n",
    "cast_in_movie = pd.DataFrame(cast_in_movie)\n",
    "cast_in_movie.columns = [\"actor\", \"movie_id\"]"
   ]
  },
  {
   "cell_type": "code",
   "execution_count": 11,
   "metadata": {},
   "outputs": [],
   "source": [
    "# group actors and count number of movies + sort\n",
    "sorted_actors = cast_in_movie.groupby('actor').count().rename(columns={\"movie_id\": \"movie_count\"}).sort_values(by=\"movie_count\", ascending=False)"
   ]
  },
  {
   "cell_type": "code",
   "execution_count": 12,
   "metadata": {},
   "outputs": [
    {
     "data": {
      "text/plain": [
       "(202747, 1)"
      ]
     },
     "execution_count": 12,
     "metadata": {},
     "output_type": "execute_result"
    }
   ],
   "source": [
    "# display number of actors\n",
    "sorted_actors.shape"
   ]
  },
  {
   "cell_type": "code",
   "execution_count": 13,
   "metadata": {},
   "outputs": [
    {
     "data": {
      "image/png": "[encoded data removed]",
      "text/plain": [
       "<Figure size 432x288 with 1 Axes>"
      ]
     },
     "metadata": {
      "needs_background": "light"
     },
     "output_type": "display_data"
    }
   ],
   "source": [
    "# display histogram of actors with number of movies\n",
    "plt.hist(sorted_actors, bins=50, log=True)\n",
    "plt.xlabel(\"Number of movies\")\n",
    "plt.ylabel(\"Number of actors (log)\")\n",
    "plt.title(\"Distribution of number of actors per total movie count\")\n",
    "plt.show()"
   ]
  },
  {
   "cell_type": "code",
   "execution_count": 14,
   "metadata": {},
   "outputs": [],
   "source": [
    "# keep only actors that were in 20 or more movies\n",
    "top_actors = sorted_actors[sorted_actors.movie_count >= 20]"
   ]
  },
  {
   "cell_type": "code",
   "execution_count": 15,
   "metadata": {},
   "outputs": [
    {
     "data": {
      "text/plain": [
       "(3776, 1)"
      ]
     },
     "execution_count": 15,
     "metadata": {},
     "output_type": "execute_result"
    }
   ],
   "source": [
    "# display number of top actors\n",
    "top_actors.shape"
   ]
  },
  {
   "cell_type": "code",
   "execution_count": 16,
   "metadata": {},
   "outputs": [
    {
     "data": {
      "text/html": [
       "<div>\n",
       "<style scoped>\n",
       "    .dataframe tbody tr th:only-of-type {\n",
       "        vertical-align: middle;\n",
       "    }\n",
       "\n",
       "    .dataframe tbody tr th {\n",
       "        vertical-align: top;\n",
       "    }\n",
       "\n",
       "    .dataframe thead th {\n",
       "        text-align: right;\n",
       "    }\n",
       "</style>\n",
       "<table border=\"1\" class=\"dataframe\">\n",
       "  <thead>\n",
       "    <tr style=\"text-align: right;\">\n",
       "      <th></th>\n",
       "      <th>movie_count</th>\n",
       "    </tr>\n",
       "    <tr>\n",
       "      <th>actor</th>\n",
       "      <th></th>\n",
       "    </tr>\n",
       "  </thead>\n",
       "  <tbody>\n",
       "    <tr>\n",
       "      <th>Bess Flowers</th>\n",
       "      <td>241</td>\n",
       "    </tr>\n",
       "    <tr>\n",
       "      <th>Christopher Lee</th>\n",
       "      <td>148</td>\n",
       "    </tr>\n",
       "    <tr>\n",
       "      <th>John Wayne</th>\n",
       "      <td>125</td>\n",
       "    </tr>\n",
       "    <tr>\n",
       "      <th>Samuel L. Jackson</th>\n",
       "      <td>123</td>\n",
       "    </tr>\n",
       "    <tr>\n",
       "      <th>Gérard Depardieu</th>\n",
       "      <td>110</td>\n",
       "    </tr>\n",
       "    <tr>\n",
       "      <th>...</th>\n",
       "      <td>...</td>\n",
       "    </tr>\n",
       "    <tr>\n",
       "      <th>Tony Roberts</th>\n",
       "      <td>20</td>\n",
       "    </tr>\n",
       "    <tr>\n",
       "      <th>Vic Tayback</th>\n",
       "      <td>20</td>\n",
       "    </tr>\n",
       "    <tr>\n",
       "      <th>Andrew Duggan</th>\n",
       "      <td>20</td>\n",
       "    </tr>\n",
       "    <tr>\n",
       "      <th>Donnie Wahlberg</th>\n",
       "      <td>20</td>\n",
       "    </tr>\n",
       "    <tr>\n",
       "      <th>Linda Blair</th>\n",
       "      <td>20</td>\n",
       "    </tr>\n",
       "  </tbody>\n",
       "</table>\n",
       "<p>3776 rows × 1 columns</p>\n",
       "</div>"
      ],
      "text/plain": [
       "                   movie_count\n",
       "actor                         \n",
       "Bess Flowers               241\n",
       "Christopher Lee            148\n",
       "John Wayne                 125\n",
       "Samuel L. Jackson          123\n",
       "Gérard Depardieu           110\n",
       "...                        ...\n",
       "Tony Roberts                20\n",
       "Vic Tayback                 20\n",
       "Andrew Duggan               20\n",
       "Donnie Wahlberg             20\n",
       "Linda Blair                 20\n",
       "\n",
       "[3776 rows x 1 columns]"
      ]
     },
     "execution_count": 16,
     "metadata": {},
     "output_type": "execute_result"
    }
   ],
   "source": [
    "# display top actors\n",
    "top_actors"
   ]
  },
  {
   "cell_type": "code",
   "execution_count": 17,
   "metadata": {},
   "outputs": [
    {
     "data": {
      "image/png": "[encoded data removed]",
      "text/plain": [
       "<Figure size 432x288 with 1 Axes>"
      ]
     },
     "metadata": {
      "needs_background": "light"
     },
     "output_type": "display_data"
    }
   ],
   "source": [
    "# display histogram of top actors with number of movies\n",
    "plt.hist(top_actors, bins=50, log=True)\n",
    "plt.xlabel(\"Number of movies\")\n",
    "plt.ylabel(\"Number of actors (log)\")\n",
    "plt.title(\"Distribution of number of (top) actors per total movie count\")\n",
    "plt.show()"
   ]
  },
  {
   "cell_type": "code",
   "execution_count": 18,
   "metadata": {},
   "outputs": [
    {
     "data": {
      "text/plain": [
       "(45466, 23)"
      ]
     },
     "execution_count": 18,
     "metadata": {},
     "output_type": "execute_result"
    }
   ],
   "source": [
    "# number of movies \n",
    "movies.shape"
   ]
  },
  {
   "cell_type": "code",
   "execution_count": 19,
   "metadata": {},
   "outputs": [],
   "source": [
    "# get ids of the movies of the top actors\n",
    "top_actors_movies_ids = pd.Series(cast_in_movie[cast_in_movie.actor.isin(top_actors.index)].movie_id.unique()).map(str)"
   ]
  },
  {
   "cell_type": "code",
   "execution_count": 20,
   "metadata": {},
   "outputs": [
    {
     "data": {
      "text/plain": [
       "(1399, 23)"
      ]
     },
     "execution_count": 20,
     "metadata": {},
     "output_type": "execute_result"
    }
   ],
   "source": [
    "# get the movie metadata for those\n",
    "top_actors_movies = movies.loc[top_actors_movies_ids[top_actors_movies_ids.isin(movies.index)]]\n",
    "# display filtered number of movies\n",
    "top_actors_movies.shape"
   ]
  },
  {
   "cell_type": "code",
   "execution_count": 21,
   "metadata": {},
   "outputs": [
    {
     "data": {
      "text/html": [
       "<div>\n",
       "<style scoped>\n",
       "    .dataframe tbody tr th:only-of-type {\n",
       "        vertical-align: middle;\n",
       "    }\n",
       "\n",
       "    .dataframe tbody tr th {\n",
       "        vertical-align: top;\n",
       "    }\n",
       "\n",
       "    .dataframe thead th {\n",
       "        text-align: right;\n",
       "    }\n",
       "</style>\n",
       "<table border=\"1\" class=\"dataframe\">\n",
       "  <thead>\n",
       "    <tr style=\"text-align: right;\">\n",
       "      <th></th>\n",
       "      <th>adult</th>\n",
       "      <th>belongs_to_collection</th>\n",
       "      <th>budget</th>\n",
       "      <th>genres</th>\n",
       "      <th>homepage</th>\n",
       "      <th>imdb_id</th>\n",
       "      <th>original_language</th>\n",
       "      <th>original_title</th>\n",
       "      <th>overview</th>\n",
       "      <th>popularity</th>\n",
       "      <th>...</th>\n",
       "      <th>release_date</th>\n",
       "      <th>revenue</th>\n",
       "      <th>runtime</th>\n",
       "      <th>spoken_languages</th>\n",
       "      <th>status</th>\n",
       "      <th>tagline</th>\n",
       "      <th>title</th>\n",
       "      <th>video</th>\n",
       "      <th>vote_average</th>\n",
       "      <th>vote_count</th>\n",
       "    </tr>\n",
       "    <tr>\n",
       "      <th>id</th>\n",
       "      <th></th>\n",
       "      <th></th>\n",
       "      <th></th>\n",
       "      <th></th>\n",
       "      <th></th>\n",
       "      <th></th>\n",
       "      <th></th>\n",
       "      <th></th>\n",
       "      <th></th>\n",
       "      <th></th>\n",
       "      <th></th>\n",
       "      <th></th>\n",
       "      <th></th>\n",
       "      <th></th>\n",
       "      <th></th>\n",
       "      <th></th>\n",
       "      <th></th>\n",
       "      <th></th>\n",
       "      <th></th>\n",
       "      <th></th>\n",
       "      <th></th>\n",
       "    </tr>\n",
       "  </thead>\n",
       "  <tbody>\n",
       "    <tr>\n",
       "      <th>12900</th>\n",
       "      <td>False</td>\n",
       "      <td>NaN</td>\n",
       "      <td>0</td>\n",
       "      <td>[{'id': 18, 'name': 'Drama'}, {'id': 36, 'name...</td>\n",
       "      <td>NaN</td>\n",
       "      <td>tt0266425</td>\n",
       "      <td>en</td>\n",
       "      <td>Conspiracy</td>\n",
       "      <td>The historical recreation of the 1942 Wannsee ...</td>\n",
       "      <td>4.633229</td>\n",
       "      <td>...</td>\n",
       "      <td>2001-05-19</td>\n",
       "      <td>0.0</td>\n",
       "      <td>96.0</td>\n",
       "      <td>[{'iso_639_1': 'en', 'name': 'English'}]</td>\n",
       "      <td>Released</td>\n",
       "      <td>One meeting. Six million lives.</td>\n",
       "      <td>Conspiracy</td>\n",
       "      <td>False</td>\n",
       "      <td>6.9</td>\n",
       "      <td>77.0</td>\n",
       "    </tr>\n",
       "    <tr>\n",
       "      <th>12133</th>\n",
       "      <td>False</td>\n",
       "      <td>NaN</td>\n",
       "      <td>65000000</td>\n",
       "      <td>[{'id': 35, 'name': 'Comedy'}]</td>\n",
       "      <td>NaN</td>\n",
       "      <td>tt0838283</td>\n",
       "      <td>en</td>\n",
       "      <td>Step Brothers</td>\n",
       "      <td>Brennan Huff and Dale Doback might be grown me...</td>\n",
       "      <td>8.579638</td>\n",
       "      <td>...</td>\n",
       "      <td>2008-07-25</td>\n",
       "      <td>128107642.0</td>\n",
       "      <td>98.0</td>\n",
       "      <td>[{'iso_639_1': 'en', 'name': 'English'}, {'iso...</td>\n",
       "      <td>Released</td>\n",
       "      <td>They grow up so fast.</td>\n",
       "      <td>Step Brothers</td>\n",
       "      <td>False</td>\n",
       "      <td>6.5</td>\n",
       "      <td>1084.0</td>\n",
       "    </tr>\n",
       "    <tr>\n",
       "      <th>2157</th>\n",
       "      <td>False</td>\n",
       "      <td>NaN</td>\n",
       "      <td>80000000</td>\n",
       "      <td>[{'id': 12, 'name': 'Adventure'}, {'id': 10751...</td>\n",
       "      <td>NaN</td>\n",
       "      <td>tt0120738</td>\n",
       "      <td>en</td>\n",
       "      <td>Lost in Space</td>\n",
       "      <td>The prospects for continuing life on Earth in ...</td>\n",
       "      <td>12.000579</td>\n",
       "      <td>...</td>\n",
       "      <td>1998-04-03</td>\n",
       "      <td>136159423.0</td>\n",
       "      <td>130.0</td>\n",
       "      <td>[{'iso_639_1': 'en', 'name': 'English'}]</td>\n",
       "      <td>Released</td>\n",
       "      <td>Danger, Will Robinson!</td>\n",
       "      <td>Lost in Space</td>\n",
       "      <td>False</td>\n",
       "      <td>5.0</td>\n",
       "      <td>395.0</td>\n",
       "    </tr>\n",
       "    <tr>\n",
       "      <th>205</th>\n",
       "      <td>False</td>\n",
       "      <td>NaN</td>\n",
       "      <td>17500000</td>\n",
       "      <td>[{'id': 18, 'name': 'Drama'}, {'id': 36, 'name...</td>\n",
       "      <td>http://www.metrofilms.com/hotelrwanda/</td>\n",
       "      <td>tt0395169</td>\n",
       "      <td>en</td>\n",
       "      <td>Hotel Rwanda</td>\n",
       "      <td>Inspired by true events, this film takes place...</td>\n",
       "      <td>10.262332</td>\n",
       "      <td>...</td>\n",
       "      <td>2004-09-11</td>\n",
       "      <td>38000000.0</td>\n",
       "      <td>121.0</td>\n",
       "      <td>[{'iso_639_1': 'en', 'name': 'English'}, {'iso...</td>\n",
       "      <td>Released</td>\n",
       "      <td>When the world closed its eyes, he opened his ...</td>\n",
       "      <td>Hotel Rwanda</td>\n",
       "      <td>False</td>\n",
       "      <td>7.5</td>\n",
       "      <td>805.0</td>\n",
       "    </tr>\n",
       "    <tr>\n",
       "      <th>10739</th>\n",
       "      <td>False</td>\n",
       "      <td>NaN</td>\n",
       "      <td>0</td>\n",
       "      <td>[{'id': 35, 'name': 'Comedy'}, {'id': 10749, '...</td>\n",
       "      <td>NaN</td>\n",
       "      <td>tt0313792</td>\n",
       "      <td>en</td>\n",
       "      <td>Anything Else</td>\n",
       "      <td>Jerry Falk, an aspiring writer in New York, fa...</td>\n",
       "      <td>11.10416</td>\n",
       "      <td>...</td>\n",
       "      <td>2003-08-27</td>\n",
       "      <td>0.0</td>\n",
       "      <td>108.0</td>\n",
       "      <td>[{'iso_639_1': 'en', 'name': 'English'}]</td>\n",
       "      <td>Released</td>\n",
       "      <td>In any relationship one person always does the...</td>\n",
       "      <td>Anything Else</td>\n",
       "      <td>False</td>\n",
       "      <td>6.2</td>\n",
       "      <td>151.0</td>\n",
       "    </tr>\n",
       "  </tbody>\n",
       "</table>\n",
       "<p>5 rows × 23 columns</p>\n",
       "</div>"
      ],
      "text/plain": [
       "       adult belongs_to_collection    budget  \\\n",
       "id                                             \n",
       "12900  False                   NaN         0   \n",
       "12133  False                   NaN  65000000   \n",
       "2157   False                   NaN  80000000   \n",
       "205    False                   NaN  17500000   \n",
       "10739  False                   NaN         0   \n",
       "\n",
       "                                                  genres  \\\n",
       "id                                                         \n",
       "12900  [{'id': 18, 'name': 'Drama'}, {'id': 36, 'name...   \n",
       "12133                     [{'id': 35, 'name': 'Comedy'}]   \n",
       "2157   [{'id': 12, 'name': 'Adventure'}, {'id': 10751...   \n",
       "205    [{'id': 18, 'name': 'Drama'}, {'id': 36, 'name...   \n",
       "10739  [{'id': 35, 'name': 'Comedy'}, {'id': 10749, '...   \n",
       "\n",
       "                                     homepage    imdb_id original_language  \\\n",
       "id                                                                           \n",
       "12900                                     NaN  tt0266425                en   \n",
       "12133                                     NaN  tt0838283                en   \n",
       "2157                                      NaN  tt0120738                en   \n",
       "205    http://www.metrofilms.com/hotelrwanda/  tt0395169                en   \n",
       "10739                                     NaN  tt0313792                en   \n",
       "\n",
       "      original_title                                           overview  \\\n",
       "id                                                                        \n",
       "12900     Conspiracy  The historical recreation of the 1942 Wannsee ...   \n",
       "12133  Step Brothers  Brennan Huff and Dale Doback might be grown me...   \n",
       "2157   Lost in Space  The prospects for continuing life on Earth in ...   \n",
       "205     Hotel Rwanda  Inspired by true events, this film takes place...   \n",
       "10739  Anything Else  Jerry Falk, an aspiring writer in New York, fa...   \n",
       "\n",
       "      popularity  ... release_date      revenue runtime  \\\n",
       "id                ...                                     \n",
       "12900   4.633229  ...   2001-05-19          0.0    96.0   \n",
       "12133   8.579638  ...   2008-07-25  128107642.0    98.0   \n",
       "2157   12.000579  ...   1998-04-03  136159423.0   130.0   \n",
       "205    10.262332  ...   2004-09-11   38000000.0   121.0   \n",
       "10739   11.10416  ...   2003-08-27          0.0   108.0   \n",
       "\n",
       "                                        spoken_languages    status  \\\n",
       "id                                                                   \n",
       "12900           [{'iso_639_1': 'en', 'name': 'English'}]  Released   \n",
       "12133  [{'iso_639_1': 'en', 'name': 'English'}, {'iso...  Released   \n",
       "2157            [{'iso_639_1': 'en', 'name': 'English'}]  Released   \n",
       "205    [{'iso_639_1': 'en', 'name': 'English'}, {'iso...  Released   \n",
       "10739           [{'iso_639_1': 'en', 'name': 'English'}]  Released   \n",
       "\n",
       "                                                 tagline          title  \\\n",
       "id                                                                        \n",
       "12900                    One meeting. Six million lives.     Conspiracy   \n",
       "12133                              They grow up so fast.  Step Brothers   \n",
       "2157                              Danger, Will Robinson!  Lost in Space   \n",
       "205    When the world closed its eyes, he opened his ...   Hotel Rwanda   \n",
       "10739  In any relationship one person always does the...  Anything Else   \n",
       "\n",
       "       video vote_average vote_count  \n",
       "id                                    \n",
       "12900  False          6.9       77.0  \n",
       "12133  False          6.5     1084.0  \n",
       "2157   False          5.0      395.0  \n",
       "205    False          7.5      805.0  \n",
       "10739  False          6.2      151.0  \n",
       "\n",
       "[5 rows x 23 columns]"
      ]
     },
     "execution_count": 21,
     "metadata": {},
     "output_type": "execute_result"
    }
   ],
   "source": [
    "top_actors_movies.head()"
   ]
  },
  {
   "cell_type": "markdown",
   "metadata": {},
   "source": [
    "# 4. Movie revenues and ratings"
   ]
  },
  {
   "cell_type": "code",
   "execution_count": 22,
   "metadata": {},
   "outputs": [
    {
     "data": {
      "text/plain": [
       "11209348.539265288"
      ]
     },
     "execution_count": 22,
     "metadata": {},
     "output_type": "execute_result"
    }
   ],
   "source": [
    "# all movies average revenue\n",
    "movies.revenue.mean()"
   ]
  },
  {
   "cell_type": "code",
   "execution_count": 23,
   "metadata": {},
   "outputs": [
    {
     "data": {
      "text/plain": [
       "31749677.249463905"
      ]
     },
     "execution_count": 23,
     "metadata": {},
     "output_type": "execute_result"
    }
   ],
   "source": [
    "# selected movies average revenue\n",
    "top_actors_movies.revenue.mean()"
   ]
  },
  {
   "cell_type": "code",
   "execution_count": 24,
   "metadata": {},
   "outputs": [
    {
     "data": {
      "text/plain": [
       "5.618207215133889"
      ]
     },
     "execution_count": 24,
     "metadata": {},
     "output_type": "execute_result"
    }
   ],
   "source": [
    "# all movies average rating\n",
    "movies.vote_average.mean()"
   ]
  },
  {
   "cell_type": "code",
   "execution_count": 25,
   "metadata": {},
   "outputs": [
    {
     "data": {
      "text/plain": [
       "6.176769120800578"
      ]
     },
     "execution_count": 25,
     "metadata": {},
     "output_type": "execute_result"
    }
   ],
   "source": [
    "# selected movies average rating\n",
    "top_actors_movies.vote_average.mean()"
   ]
  },
  {
   "cell_type": "code",
   "execution_count": null,
   "metadata": {},
   "outputs": [],
   "source": []
  }
 ],
 "metadata": {
  "interpreter": {
   "hash": "78cdafec93e413fa4a819decba57ed174f885af0befa54c1bdc3595368129811"
  },
  "kernelspec": {
   "display_name": "Python 3.8.12 ('ada')",
   "language": "python",
   "name": "python3"
  },
  "language_info": {
   "codemirror_mode": {
    "name": "ipython",
    "version": 3
   },
   "file_extension": ".py",
   "mimetype": "text/x-python",
   "name": "python",
   "nbconvert_exporter": "python",
   "pygments_lexer": "ipython3",
   "version": "3.8.12"
  },
  "orig_nbformat": 4
 },
 "nbformat": 4,
 "nbformat_minor": 2
}
