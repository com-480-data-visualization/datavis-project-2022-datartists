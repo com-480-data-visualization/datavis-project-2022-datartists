{
 "cells": [
  {
   "cell_type": "code",
   "execution_count": 1,
   "metadata": {},
   "outputs": [],
   "source": [
    "import pandas as pd\n",
    "import ast\n",
    "import json\n",
    "\n",
    "%load_ext autoreload\n",
    "%autoreload 2"
   ]
  },
  {
   "cell_type": "markdown",
   "metadata": {},
   "source": [
    "# 1. Loading the data"
   ]
  },
  {
   "cell_type": "code",
   "execution_count": 2,
   "metadata": {},
   "outputs": [
    {
     "name": "stderr",
     "output_type": "stream",
     "text": [
      "/tmp/ipykernel_4580/3431764758.py:2: DtypeWarning: Columns (10) have mixed types. Specify dtype option on import or set low_memory=False.\n",
      "  movies = pd.read_csv('data/movies_metadata.csv')\n"
     ]
    }
   ],
   "source": [
    "# reading the csv as data frames\n",
    "movies = pd.read_csv('data/movies_metadata.csv')\n",
    "credits = pd.read_csv('data/credits.csv')"
   ]
  },
  {
   "cell_type": "markdown",
   "metadata": {},
   "source": [
    "# 2. Genres"
   ]
  },
  {
   "cell_type": "code",
   "execution_count": 9,
   "metadata": {},
   "outputs": [],
   "source": [
    "# extract all genres\n",
    "genre_in_movie = []\n",
    "for _, row in movies.iterrows():\n",
    "    for g in ast.literal_eval(row.genres):\n",
    "        genre_in_movie.append([g[\"name\"], g[\"id\"]])"
   ]
  },
  {
   "cell_type": "code",
   "execution_count": 10,
   "metadata": {},
   "outputs": [],
   "source": [
    "# convert genres to dataframe\n",
    "genre_in_movie = pd.DataFrame(genre_in_movie)\n",
    "genre_in_movie.columns = [\"genre\", \"id\"]\n",
    "genre_in_movie[\"count\"] = 0"
   ]
  },
  {
   "cell_type": "code",
   "execution_count": 11,
   "metadata": {},
   "outputs": [],
   "source": [
    "# group genres and count number of movies + sort\n",
    "sorted_genres = genre_in_movie.groupby(['genre', 'id']).count().sort_values(by=\"id\").reset_index()\n"
   ]
  },
  {
   "cell_type": "code",
   "execution_count": 12,
   "metadata": {},
   "outputs": [],
   "source": [
    "# only keep relevant genres and change columns\n",
    "sorted_genres = sorted_genres[sorted_genres['count'] > 1]\n",
    "sorted_genres.drop(columns=['count'], inplace=True)\n",
    "sorted_genres['color'] = '#000000'"
   ]
  },
  {
   "cell_type": "code",
   "execution_count": 13,
   "metadata": {},
   "outputs": [
    {
     "data": {
      "text/plain": [
       "[{'index': 0, 'genre': 'Adventure', 'id': 12, 'color': '#000000'},\n",
       " {'index': 1, 'genre': 'Fantasy', 'id': 14, 'color': '#000000'},\n",
       " {'index': 2, 'genre': 'Animation', 'id': 16, 'color': '#000000'},\n",
       " {'index': 3, 'genre': 'Drama', 'id': 18, 'color': '#000000'},\n",
       " {'index': 4, 'genre': 'Horror', 'id': 27, 'color': '#000000'},\n",
       " {'index': 5, 'genre': 'Action', 'id': 28, 'color': '#000000'},\n",
       " {'index': 6, 'genre': 'Comedy', 'id': 35, 'color': '#000000'},\n",
       " {'index': 7, 'genre': 'History', 'id': 36, 'color': '#000000'},\n",
       " {'index': 8, 'genre': 'Western', 'id': 37, 'color': '#000000'},\n",
       " {'index': 9, 'genre': 'Thriller', 'id': 53, 'color': '#000000'},\n",
       " {'index': 10, 'genre': 'Crime', 'id': 80, 'color': '#000000'},\n",
       " {'index': 11, 'genre': 'Documentary', 'id': 99, 'color': '#000000'},\n",
       " {'index': 12, 'genre': 'Science Fiction', 'id': 878, 'color': '#000000'},\n",
       " {'index': 17, 'genre': 'Mystery', 'id': 9648, 'color': '#000000'},\n",
       " {'index': 18, 'genre': 'Music', 'id': 10402, 'color': '#000000'},\n",
       " {'index': 19, 'genre': 'Romance', 'id': 10749, 'color': '#000000'},\n",
       " {'index': 20, 'genre': 'Family', 'id': 10751, 'color': '#000000'},\n",
       " {'index': 21, 'genre': 'War', 'id': 10752, 'color': '#000000'},\n",
       " {'index': 22, 'genre': 'Foreign', 'id': 10769, 'color': '#000000'},\n",
       " {'index': 23, 'genre': 'TV Movie', 'id': 10770, 'color': '#000000'}]"
      ]
     },
     "execution_count": 13,
     "metadata": {},
     "output_type": "execute_result"
    }
   ],
   "source": [
    "# display genres by usage\n",
    "genres = sorted_genres.reset_index().to_dict('records')\n",
    "genres"
   ]
  },
  {
   "cell_type": "code",
   "execution_count": 14,
   "metadata": {
    "pycharm": {
     "name": "#%%\n"
    }
   },
   "outputs": [],
   "source": [
    "# Define genre colors (partially from https://colorbrewer2.org/#type=qualitative&scheme=Paired&n=12)\n",
    "genres = [\n",
    "    {'genre': 'Adventure', 'id': 12, 'color': '#fdbf6f'},\n",
    "    {'genre': 'Action', 'id': 28, 'color': '#ff7f00'},\n",
    "    {'genre': 'Romance', 'id': 10749, 'color': '#fb9a99'},\n",
    "    {'genre': 'Drama', 'id': 18, 'color': '#e31a1c'},\n",
    "    {'genre': 'Fantasy', 'id': 14, 'color': '#a6cee3'},\n",
    "    {'genre': 'Science Fiction', 'id': 878, 'color': '#1f78b4'},\n",
    "    {'genre': 'Animation', 'id': 16, 'color': '#ffff99'},\n",
    "    {'genre': 'Comedy', 'id': 35, 'color': '#b2df8a'},\n",
    "    {'genre': 'Family', 'id': 10751, 'color': '#33a02c'},\n",
    "    {'genre': 'Horror', 'id': 27, 'color': '#5e7563'},\n",
    "    {'genre': 'Thriller', 'id': 53, 'color': '#2f3b32'},\n",
    "    {'genre': 'Mystery', 'id': 9648, 'color': '#b816b8'},\n",
    "    {'genre': 'Crime', 'id': 80, 'color': '#cab2d6'},\n",
    "    {'genre': 'Western', 'id': 37, 'color': '#b15928'},\n",
    "    {'genre': 'War', 'id': 10752, 'color': '#6a3d9a'},\n",
    "    {'genre': 'Foreign', 'id': 10769, 'color': '#820096'},\n",
    "    {'genre': 'History', 'id': 36, 'color': '#300008'},\n",
    "    {'genre': 'Music', 'id': 10402, 'color': '#e5f53b'},\n",
    "    {'genre': 'Documentary', 'id': 99, 'color': '#1403a6'},\n",
    "    {'genre': 'TV Movie', 'id': 10770, 'color': '#8a6629'}\n",
    "]"
   ]
  },
  {
   "cell_type": "markdown",
   "metadata": {},
   "source": [
    "# 3. Actors and movies"
   ]
  },
  {
   "cell_type": "code",
   "execution_count": 15,
   "metadata": {},
   "outputs": [],
   "source": [
    "# extract all actors\n",
    "cast_in_movie = []\n",
    "for _, r in credits.iterrows():\n",
    "    for g in ast.literal_eval(r['cast']):\n",
    "        cast_in_movie.append([g[\"id\"], g[\"name\"], g['gender'], g['profile_path'], r['id']])"
   ]
  },
  {
   "cell_type": "code",
   "execution_count": 16,
   "metadata": {},
   "outputs": [],
   "source": [
    "# convert actor movie to dataframe\n",
    "cast_in_movie = pd.DataFrame(cast_in_movie)\n",
    "cast_in_movie.columns = [\"id\", \"name\", 'gender', 'profile_path', 'movie_id']\n",
    "cast_in_movie.movie_id = cast_in_movie.movie_id.astype('string')"
   ]
  },
  {
   "cell_type": "code",
   "execution_count": 17,
   "metadata": {
    "pycharm": {
     "name": "#%%\n"
    }
   },
   "outputs": [],
   "source": [
    "# Aggregate movie ids\n",
    "actors = cast_in_movie.groupby(['name', 'id', 'gender', 'profile_path'])['movie_id'].apply(list).reset_index().rename(columns={'movie_id': 'movies'})"
   ]
  },
  {
   "cell_type": "code",
   "execution_count": 18,
   "metadata": {
    "collapsed": false,
    "pycharm": {
     "name": "#%%\n"
    }
   },
   "outputs": [
    {
     "data": {
      "text/plain": [
       "(77372,)"
      ]
     },
     "execution_count": 18,
     "metadata": {},
     "output_type": "execute_result"
    }
   ],
   "source": [
    "# Some ids are not unique (different name, gender, profile_path\n",
    "actors['id'].unique().shape"
   ]
  },
  {
   "cell_type": "code",
   "execution_count": 19,
   "metadata": {
    "collapsed": false,
    "pycharm": {
     "name": "#%%\n"
    }
   },
   "outputs": [],
   "source": [
    "top_actors = actors[actors.movies.map(len) >= 20]"
   ]
  },
  {
   "cell_type": "code",
   "execution_count": 20,
   "metadata": {
    "collapsed": false,
    "pycharm": {
     "name": "#%%\n"
    }
   },
   "outputs": [
    {
     "data": {
      "text/plain": [
       "(3680, 5)"
      ]
     },
     "execution_count": 20,
     "metadata": {},
     "output_type": "execute_result"
    }
   ],
   "source": [
    "top_actors.shape"
   ]
  },
  {
   "cell_type": "code",
   "execution_count": 21,
   "metadata": {},
   "outputs": [
    {
     "data": {
      "text/plain": [
       "(45466, 24)"
      ]
     },
     "execution_count": 21,
     "metadata": {},
     "output_type": "execute_result"
    }
   ],
   "source": [
    "# number of movies \n",
    "movies.shape"
   ]
  },
  {
   "cell_type": "code",
   "execution_count": 22,
   "metadata": {},
   "outputs": [],
   "source": [
    "# get ids of the movies of the top actors\n",
    "top_actors_movies_ids = set()\n",
    "for ids in top_actors.movies: top_actors_movies_ids.update(ids)"
   ]
  },
  {
   "cell_type": "code",
   "execution_count": 63,
   "metadata": {
    "collapsed": false,
    "pycharm": {
     "name": "#%%\n"
    }
   },
   "outputs": [],
   "source": [
    "top_actors_movies = movies[movies['id'].isin(map(str,top_actors_movies_ids))]\n"
   ]
  },
  {
   "cell_type": "code",
   "execution_count": 64,
   "metadata": {},
   "outputs": [
    {
     "data": {
      "text/plain": [
       "(29649, 24)"
      ]
     },
     "execution_count": 64,
     "metadata": {},
     "output_type": "execute_result"
    }
   ],
   "source": [
    "# display filtered number of movies\n",
    "top_actors_movies.shape"
   ]
  },
  {
   "cell_type": "code",
   "execution_count": 65,
   "metadata": {
    "pycharm": {
     "name": "#%%\n"
    }
   },
   "outputs": [
    {
     "name": "stderr",
     "output_type": "stream",
     "text": [
      "/tmp/ipykernel_4580/3738341417.py:1: SettingWithCopyWarning: \n",
      "A value is trying to be set on a copy of a slice from a DataFrame\n",
      "\n",
      "See the caveats in the documentation: https://pandas.pydata.org/pandas-docs/stable/user_guide/indexing.html#returning-a-view-versus-a-copy\n",
      "  top_actors_movies.drop(columns=['adult', 'belongs_to_collection', 'homepage', 'original_language', 'original_title', 'production_companies', 'production_countries', 'spoken_languages', 'status', 'video', 'overview'], inplace=True)\n"
     ]
    }
   ],
   "source": [
    "top_actors_movies.drop(columns=['adult', 'belongs_to_collection', 'homepage', 'original_language', 'original_title', 'production_companies', 'production_countries', 'spoken_languages', 'status', 'video', 'overview'], inplace=True)"
   ]
  },
  {
   "cell_type": "code",
   "execution_count": 66,
   "metadata": {
    "collapsed": false,
    "pycharm": {
     "name": "#%%\n"
    }
   },
   "outputs": [
    {
     "data": {
      "text/html": [
       "<div>\n",
       "<style scoped>\n",
       "    .dataframe tbody tr th:only-of-type {\n",
       "        vertical-align: middle;\n",
       "    }\n",
       "\n",
       "    .dataframe tbody tr th {\n",
       "        vertical-align: top;\n",
       "    }\n",
       "\n",
       "    .dataframe thead th {\n",
       "        text-align: right;\n",
       "    }\n",
       "</style>\n",
       "<table border=\"1\" class=\"dataframe\">\n",
       "  <thead>\n",
       "    <tr style=\"text-align: right;\">\n",
       "      <th></th>\n",
       "      <th>budget</th>\n",
       "      <th>genres</th>\n",
       "      <th>id</th>\n",
       "      <th>imdb_id</th>\n",
       "      <th>popularity</th>\n",
       "      <th>poster_path</th>\n",
       "      <th>release_date</th>\n",
       "      <th>revenue</th>\n",
       "      <th>runtime</th>\n",
       "      <th>tagline</th>\n",
       "      <th>title</th>\n",
       "      <th>vote_average</th>\n",
       "      <th>vote_count</th>\n",
       "    </tr>\n",
       "  </thead>\n",
       "  <tbody>\n",
       "    <tr>\n",
       "      <th>0</th>\n",
       "      <td>30000000</td>\n",
       "      <td>[{'id': 16, 'name': 'Animation'}, {'id': 35, '...</td>\n",
       "      <td>862</td>\n",
       "      <td>tt0114709</td>\n",
       "      <td>21.946943</td>\n",
       "      <td>/rhIRbceoE9lR4veEXuwCC2wARtG.jpg</td>\n",
       "      <td>1995-10-30</td>\n",
       "      <td>373554033.0</td>\n",
       "      <td>81.0</td>\n",
       "      <td>NaN</td>\n",
       "      <td>Toy Story</td>\n",
       "      <td>7.7</td>\n",
       "      <td>5415.0</td>\n",
       "    </tr>\n",
       "    <tr>\n",
       "      <th>1</th>\n",
       "      <td>65000000</td>\n",
       "      <td>[{'id': 12, 'name': 'Adventure'}, {'id': 14, '...</td>\n",
       "      <td>8844</td>\n",
       "      <td>tt0113497</td>\n",
       "      <td>17.015539</td>\n",
       "      <td>/vzmL6fP7aPKNKPRTFnZmiUfciyV.jpg</td>\n",
       "      <td>1995-12-15</td>\n",
       "      <td>262797249.0</td>\n",
       "      <td>104.0</td>\n",
       "      <td>Roll the dice and unleash the excitement!</td>\n",
       "      <td>Jumanji</td>\n",
       "      <td>6.9</td>\n",
       "      <td>2413.0</td>\n",
       "    </tr>\n",
       "    <tr>\n",
       "      <th>2</th>\n",
       "      <td>0</td>\n",
       "      <td>[{'id': 10749, 'name': 'Romance'}, {'id': 35, ...</td>\n",
       "      <td>15602</td>\n",
       "      <td>tt0113228</td>\n",
       "      <td>11.7129</td>\n",
       "      <td>/6ksm1sjKMFLbO7UY2i6G1ju9SML.jpg</td>\n",
       "      <td>1995-12-22</td>\n",
       "      <td>0.0</td>\n",
       "      <td>101.0</td>\n",
       "      <td>Still Yelling. Still Fighting. Still Ready for...</td>\n",
       "      <td>Grumpier Old Men</td>\n",
       "      <td>6.5</td>\n",
       "      <td>92.0</td>\n",
       "    </tr>\n",
       "    <tr>\n",
       "      <th>3</th>\n",
       "      <td>16000000</td>\n",
       "      <td>[{'id': 35, 'name': 'Comedy'}, {'id': 18, 'nam...</td>\n",
       "      <td>31357</td>\n",
       "      <td>tt0114885</td>\n",
       "      <td>3.859495</td>\n",
       "      <td>/16XOMpEaLWkrcPqSQqhTmeJuqQl.jpg</td>\n",
       "      <td>1995-12-22</td>\n",
       "      <td>81452156.0</td>\n",
       "      <td>127.0</td>\n",
       "      <td>Friends are the people who let you be yourself...</td>\n",
       "      <td>Waiting to Exhale</td>\n",
       "      <td>6.1</td>\n",
       "      <td>34.0</td>\n",
       "    </tr>\n",
       "    <tr>\n",
       "      <th>4</th>\n",
       "      <td>0</td>\n",
       "      <td>[{'id': 35, 'name': 'Comedy'}]</td>\n",
       "      <td>11862</td>\n",
       "      <td>tt0113041</td>\n",
       "      <td>8.387519</td>\n",
       "      <td>/e64sOI48hQXyru7naBFyssKFxVd.jpg</td>\n",
       "      <td>1995-02-10</td>\n",
       "      <td>76578911.0</td>\n",
       "      <td>106.0</td>\n",
       "      <td>Just When His World Is Back To Normal... He's ...</td>\n",
       "      <td>Father of the Bride Part II</td>\n",
       "      <td>5.7</td>\n",
       "      <td>173.0</td>\n",
       "    </tr>\n",
       "  </tbody>\n",
       "</table>\n",
       "</div>"
      ],
      "text/plain": [
       "     budget                                             genres     id  \\\n",
       "0  30000000  [{'id': 16, 'name': 'Animation'}, {'id': 35, '...    862   \n",
       "1  65000000  [{'id': 12, 'name': 'Adventure'}, {'id': 14, '...   8844   \n",
       "2         0  [{'id': 10749, 'name': 'Romance'}, {'id': 35, ...  15602   \n",
       "3  16000000  [{'id': 35, 'name': 'Comedy'}, {'id': 18, 'nam...  31357   \n",
       "4         0                     [{'id': 35, 'name': 'Comedy'}]  11862   \n",
       "\n",
       "     imdb_id popularity                       poster_path release_date  \\\n",
       "0  tt0114709  21.946943  /rhIRbceoE9lR4veEXuwCC2wARtG.jpg   1995-10-30   \n",
       "1  tt0113497  17.015539  /vzmL6fP7aPKNKPRTFnZmiUfciyV.jpg   1995-12-15   \n",
       "2  tt0113228    11.7129  /6ksm1sjKMFLbO7UY2i6G1ju9SML.jpg   1995-12-22   \n",
       "3  tt0114885   3.859495  /16XOMpEaLWkrcPqSQqhTmeJuqQl.jpg   1995-12-22   \n",
       "4  tt0113041   8.387519  /e64sOI48hQXyru7naBFyssKFxVd.jpg   1995-02-10   \n",
       "\n",
       "       revenue  runtime                                            tagline  \\\n",
       "0  373554033.0     81.0                                                NaN   \n",
       "1  262797249.0    104.0          Roll the dice and unleash the excitement!   \n",
       "2          0.0    101.0  Still Yelling. Still Fighting. Still Ready for...   \n",
       "3   81452156.0    127.0  Friends are the people who let you be yourself...   \n",
       "4   76578911.0    106.0  Just When His World Is Back To Normal... He's ...   \n",
       "\n",
       "                         title  vote_average  vote_count  \n",
       "0                    Toy Story           7.7      5415.0  \n",
       "1                      Jumanji           6.9      2413.0  \n",
       "2             Grumpier Old Men           6.5        92.0  \n",
       "3            Waiting to Exhale           6.1        34.0  \n",
       "4  Father of the Bride Part II           5.7       173.0  "
      ]
     },
     "execution_count": 66,
     "metadata": {},
     "output_type": "execute_result"
    }
   ],
   "source": [
    "top_actors_movies.head()"
   ]
  },
  {
   "cell_type": "code",
   "execution_count": 67,
   "metadata": {
    "collapsed": false,
    "pycharm": {
     "name": "#%%\n"
    }
   },
   "outputs": [],
   "source": [
    "genre_ids = list(sorted_genres.id)\n",
    "def get_ids(genres_str):\n",
    "    return [g['id'] for g in ast.literal_eval(genres_str) if g['id'] in genre_ids]"
   ]
  },
  {
   "cell_type": "code",
   "execution_count": 69,
   "metadata": {
    "collapsed": false,
    "pycharm": {
     "name": "#%%\n"
    }
   },
   "outputs": [
    {
     "name": "stderr",
     "output_type": "stream",
     "text": [
      "/tmp/ipykernel_4580/946823576.py:1: SettingWithCopyWarning: \n",
      "A value is trying to be set on a copy of a slice from a DataFrame.\n",
      "Try using .loc[row_indexer,col_indexer] = value instead\n",
      "\n",
      "See the caveats in the documentation: https://pandas.pydata.org/pandas-docs/stable/user_guide/indexing.html#returning-a-view-versus-a-copy\n",
      "  top_actors_movies.genres = top_actors_movies.genres.map(get_ids)\n"
     ]
    }
   ],
   "source": [
    "top_actors_movies.genres = top_actors_movies.genres.map(get_ids)"
   ]
  },
  {
   "cell_type": "code",
   "execution_count": 70,
   "metadata": {
    "collapsed": false,
    "pycharm": {
     "name": "#%%\n"
    }
   },
   "outputs": [
    {
     "data": {
      "text/html": [
       "<div>\n",
       "<style scoped>\n",
       "    .dataframe tbody tr th:only-of-type {\n",
       "        vertical-align: middle;\n",
       "    }\n",
       "\n",
       "    .dataframe tbody tr th {\n",
       "        vertical-align: top;\n",
       "    }\n",
       "\n",
       "    .dataframe thead th {\n",
       "        text-align: right;\n",
       "    }\n",
       "</style>\n",
       "<table border=\"1\" class=\"dataframe\">\n",
       "  <thead>\n",
       "    <tr style=\"text-align: right;\">\n",
       "      <th></th>\n",
       "      <th>budget</th>\n",
       "      <th>genres</th>\n",
       "      <th>id</th>\n",
       "      <th>imdb_id</th>\n",
       "      <th>popularity</th>\n",
       "      <th>poster_path</th>\n",
       "      <th>release_date</th>\n",
       "      <th>revenue</th>\n",
       "      <th>runtime</th>\n",
       "      <th>tagline</th>\n",
       "      <th>title</th>\n",
       "      <th>vote_average</th>\n",
       "      <th>vote_count</th>\n",
       "    </tr>\n",
       "  </thead>\n",
       "  <tbody>\n",
       "    <tr>\n",
       "      <th>0</th>\n",
       "      <td>30000000</td>\n",
       "      <td>[16, 35, 10751]</td>\n",
       "      <td>862</td>\n",
       "      <td>tt0114709</td>\n",
       "      <td>21.946943</td>\n",
       "      <td>/rhIRbceoE9lR4veEXuwCC2wARtG.jpg</td>\n",
       "      <td>1995-10-30</td>\n",
       "      <td>373554033.0</td>\n",
       "      <td>81.0</td>\n",
       "      <td>NaN</td>\n",
       "      <td>Toy Story</td>\n",
       "      <td>7.7</td>\n",
       "      <td>5415.0</td>\n",
       "    </tr>\n",
       "    <tr>\n",
       "      <th>1</th>\n",
       "      <td>65000000</td>\n",
       "      <td>[12, 14, 10751]</td>\n",
       "      <td>8844</td>\n",
       "      <td>tt0113497</td>\n",
       "      <td>17.015539</td>\n",
       "      <td>/vzmL6fP7aPKNKPRTFnZmiUfciyV.jpg</td>\n",
       "      <td>1995-12-15</td>\n",
       "      <td>262797249.0</td>\n",
       "      <td>104.0</td>\n",
       "      <td>Roll the dice and unleash the excitement!</td>\n",
       "      <td>Jumanji</td>\n",
       "      <td>6.9</td>\n",
       "      <td>2413.0</td>\n",
       "    </tr>\n",
       "    <tr>\n",
       "      <th>2</th>\n",
       "      <td>0</td>\n",
       "      <td>[10749, 35]</td>\n",
       "      <td>15602</td>\n",
       "      <td>tt0113228</td>\n",
       "      <td>11.7129</td>\n",
       "      <td>/6ksm1sjKMFLbO7UY2i6G1ju9SML.jpg</td>\n",
       "      <td>1995-12-22</td>\n",
       "      <td>0.0</td>\n",
       "      <td>101.0</td>\n",
       "      <td>Still Yelling. Still Fighting. Still Ready for...</td>\n",
       "      <td>Grumpier Old Men</td>\n",
       "      <td>6.5</td>\n",
       "      <td>92.0</td>\n",
       "    </tr>\n",
       "    <tr>\n",
       "      <th>3</th>\n",
       "      <td>16000000</td>\n",
       "      <td>[35, 18, 10749]</td>\n",
       "      <td>31357</td>\n",
       "      <td>tt0114885</td>\n",
       "      <td>3.859495</td>\n",
       "      <td>/16XOMpEaLWkrcPqSQqhTmeJuqQl.jpg</td>\n",
       "      <td>1995-12-22</td>\n",
       "      <td>81452156.0</td>\n",
       "      <td>127.0</td>\n",
       "      <td>Friends are the people who let you be yourself...</td>\n",
       "      <td>Waiting to Exhale</td>\n",
       "      <td>6.1</td>\n",
       "      <td>34.0</td>\n",
       "    </tr>\n",
       "    <tr>\n",
       "      <th>4</th>\n",
       "      <td>0</td>\n",
       "      <td>[35]</td>\n",
       "      <td>11862</td>\n",
       "      <td>tt0113041</td>\n",
       "      <td>8.387519</td>\n",
       "      <td>/e64sOI48hQXyru7naBFyssKFxVd.jpg</td>\n",
       "      <td>1995-02-10</td>\n",
       "      <td>76578911.0</td>\n",
       "      <td>106.0</td>\n",
       "      <td>Just When His World Is Back To Normal... He's ...</td>\n",
       "      <td>Father of the Bride Part II</td>\n",
       "      <td>5.7</td>\n",
       "      <td>173.0</td>\n",
       "    </tr>\n",
       "  </tbody>\n",
       "</table>\n",
       "</div>"
      ],
      "text/plain": [
       "     budget           genres     id    imdb_id popularity  \\\n",
       "0  30000000  [16, 35, 10751]    862  tt0114709  21.946943   \n",
       "1  65000000  [12, 14, 10751]   8844  tt0113497  17.015539   \n",
       "2         0      [10749, 35]  15602  tt0113228    11.7129   \n",
       "3  16000000  [35, 18, 10749]  31357  tt0114885   3.859495   \n",
       "4         0             [35]  11862  tt0113041   8.387519   \n",
       "\n",
       "                        poster_path release_date      revenue  runtime  \\\n",
       "0  /rhIRbceoE9lR4veEXuwCC2wARtG.jpg   1995-10-30  373554033.0     81.0   \n",
       "1  /vzmL6fP7aPKNKPRTFnZmiUfciyV.jpg   1995-12-15  262797249.0    104.0   \n",
       "2  /6ksm1sjKMFLbO7UY2i6G1ju9SML.jpg   1995-12-22          0.0    101.0   \n",
       "3  /16XOMpEaLWkrcPqSQqhTmeJuqQl.jpg   1995-12-22   81452156.0    127.0   \n",
       "4  /e64sOI48hQXyru7naBFyssKFxVd.jpg   1995-02-10   76578911.0    106.0   \n",
       "\n",
       "                                             tagline  \\\n",
       "0                                                NaN   \n",
       "1          Roll the dice and unleash the excitement!   \n",
       "2  Still Yelling. Still Fighting. Still Ready for...   \n",
       "3  Friends are the people who let you be yourself...   \n",
       "4  Just When His World Is Back To Normal... He's ...   \n",
       "\n",
       "                         title  vote_average  vote_count  \n",
       "0                    Toy Story           7.7      5415.0  \n",
       "1                      Jumanji           6.9      2413.0  \n",
       "2             Grumpier Old Men           6.5        92.0  \n",
       "3            Waiting to Exhale           6.1        34.0  \n",
       "4  Father of the Bride Part II           5.7       173.0  "
      ]
     },
     "execution_count": 70,
     "metadata": {},
     "output_type": "execute_result"
    }
   ],
   "source": [
    "top_actors_movies.head()"
   ]
  },
  {
   "cell_type": "markdown",
   "metadata": {
    "collapsed": false
   },
   "source": [
    "# 4. Write data to json"
   ]
  },
  {
   "cell_type": "code",
   "execution_count": 71,
   "metadata": {
    "collapsed": false,
    "pycharm": {
     "name": "#%%\n"
    }
   },
   "outputs": [],
   "source": [
    "data = {\n",
    "    \"actors\": top_actors.fillna('').reset_index().to_dict('records'),\n",
    "    \"movies\": top_actors_movies.fillna('').reset_index().to_dict('records'),\n",
    "    \"genres\": genres\n",
    "}\n",
    "\n",
    "with open('data/data.json', 'w') as f:\n",
    "    json.dump(data, f, indent=4)"
   ]
  },
  {
   "cell_type": "code",
   "execution_count": null,
   "metadata": {
    "collapsed": false,
    "pycharm": {
     "name": "#%%\n"
    }
   },
   "outputs": [],
   "source": []
  }
 ],
 "metadata": {
  "interpreter": {
   "hash": "78cdafec93e413fa4a819decba57ed174f885af0befa54c1bdc3595368129811"
  },
  "kernelspec": {
   "display_name": "Python 3 (ipykernel)",
   "language": "python",
   "name": "python3"
  },
  "language_info": {
   "codemirror_mode": {
    "name": "ipython",
    "version": 3
   },
   "file_extension": ".py",
   "mimetype": "text/x-python",
   "name": "python",
   "nbconvert_exporter": "python",
   "pygments_lexer": "ipython3",
   "version": "3.8.12"
  }
 },
 "nbformat": 4,
 "nbformat_minor": 2
}
