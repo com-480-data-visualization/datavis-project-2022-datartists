{
 "cells": [
  {
   "cell_type": "code",
   "execution_count": 25,
   "metadata": {},
   "outputs": [
    {
     "name": "stdout",
     "output_type": "stream",
     "text": [
      "The autoreload extension is already loaded. To reload it, use:\n",
      "  %reload_ext autoreload\n"
     ]
    }
   ],
   "source": [
    "import pandas as pd\n",
    "import numpy as np\n",
    "import ast\n",
    "import matplotlib.pyplot as plt\n",
    "\n",
    "%load_ext autoreload\n",
    "%autoreload 2"
   ]
  },
  {
   "cell_type": "markdown",
   "metadata": {},
   "source": [
    "# 1. Loading the data"
   ]
  },
  {
   "cell_type": "code",
   "execution_count": 26,
   "metadata": {},
   "outputs": [
    {
     "name": "stderr",
     "output_type": "stream",
     "text": [
      "/tmp/ipykernel_267371/3431764758.py:2: DtypeWarning: Columns (10) have mixed types. Specify dtype option on import or set low_memory=False.\n",
      "  movies = pd.read_csv('data/movies_metadata.csv')\n"
     ]
    }
   ],
   "source": [
    "# reading the csv as data frames\n",
    "movies = pd.read_csv('data/movies_metadata.csv')\n",
    "credits = pd.read_csv('data/credits.csv')"
   ]
  },
  {
   "cell_type": "code",
   "execution_count": 27,
   "metadata": {},
   "outputs": [],
   "source": [
    "# set movie id as index\n",
    "movies.set_index('id', inplace=True)"
   ]
  },
  {
   "cell_type": "markdown",
   "metadata": {},
   "source": [
    "# 2. Genres"
   ]
  },
  {
   "cell_type": "code",
   "execution_count": 28,
   "metadata": {},
   "outputs": [],
   "source": [
    "# extract all genres\n",
    "genre_in_movie = []\n",
    "for id, row in movies.iterrows():\n",
    "    for g in ast.literal_eval(row.genres):\n",
    "        genre_in_movie.append([g[\"name\"], id])"
   ]
  },
  {
   "cell_type": "code",
   "execution_count": 29,
   "metadata": {},
   "outputs": [],
   "source": [
    "# convert genre movie to dataframe\n",
    "genre_in_movie = pd.DataFrame(genre_in_movie)\n",
    "genre_in_movie.columns = [\"genre\", \"movie_id\"]"
   ]
  },
  {
   "cell_type": "code",
   "execution_count": 30,
   "metadata": {},
   "outputs": [
    {
     "data": {
      "text/plain": "           genre movie_id\n0      Animation      862\n1         Comedy      862\n2         Family      862\n3      Adventure     8844\n4        Fantasy     8844\n...          ...      ...\n91101     Family   439050\n91102      Drama   111109\n91103     Action    67758\n91104      Drama    67758\n91105   Thriller    67758\n\n[91106 rows x 2 columns]",
      "text/html": "<div>\n<style scoped>\n    .dataframe tbody tr th:only-of-type {\n        vertical-align: middle;\n    }\n\n    .dataframe tbody tr th {\n        vertical-align: top;\n    }\n\n    .dataframe thead th {\n        text-align: right;\n    }\n</style>\n<table border=\"1\" class=\"dataframe\">\n  <thead>\n    <tr style=\"text-align: right;\">\n      <th></th>\n      <th>genre</th>\n      <th>movie_id</th>\n    </tr>\n  </thead>\n  <tbody>\n    <tr>\n      <th>0</th>\n      <td>Animation</td>\n      <td>862</td>\n    </tr>\n    <tr>\n      <th>1</th>\n      <td>Comedy</td>\n      <td>862</td>\n    </tr>\n    <tr>\n      <th>2</th>\n      <td>Family</td>\n      <td>862</td>\n    </tr>\n    <tr>\n      <th>3</th>\n      <td>Adventure</td>\n      <td>8844</td>\n    </tr>\n    <tr>\n      <th>4</th>\n      <td>Fantasy</td>\n      <td>8844</td>\n    </tr>\n    <tr>\n      <th>...</th>\n      <td>...</td>\n      <td>...</td>\n    </tr>\n    <tr>\n      <th>91101</th>\n      <td>Family</td>\n      <td>439050</td>\n    </tr>\n    <tr>\n      <th>91102</th>\n      <td>Drama</td>\n      <td>111109</td>\n    </tr>\n    <tr>\n      <th>91103</th>\n      <td>Action</td>\n      <td>67758</td>\n    </tr>\n    <tr>\n      <th>91104</th>\n      <td>Drama</td>\n      <td>67758</td>\n    </tr>\n    <tr>\n      <th>91105</th>\n      <td>Thriller</td>\n      <td>67758</td>\n    </tr>\n  </tbody>\n</table>\n<p>91106 rows × 2 columns</p>\n</div>"
     },
     "execution_count": 30,
     "metadata": {},
     "output_type": "execute_result"
    }
   ],
   "source": [
    "genre_in_movie"
   ]
  },
  {
   "cell_type": "code",
   "execution_count": 31,
   "metadata": {},
   "outputs": [],
   "source": [
    "# only keep first gnere of each movie\n",
    "genre_in_movie.drop_duplicates(subset=\"movie_id\", keep=\"first\", inplace=True)"
   ]
  },
  {
   "cell_type": "code",
   "execution_count": 32,
   "metadata": {},
   "outputs": [],
   "source": [
    "genre_movies = genre_in_movie.groupby('genre')['movie_id'].apply(list)"
   ]
  },
  {
   "cell_type": "code",
   "execution_count": 33,
   "metadata": {},
   "outputs": [],
   "source": [
    "# group genres and count number of movies + sort\n",
    "sorted_genres = genre_in_movie.groupby('genre').count().rename(columns={\"movie_id\": \"movie_count\"}).sort_values(by=\"movie_count\", ascending=False)"
   ]
  },
  {
   "cell_type": "code",
   "execution_count": 34,
   "metadata": {},
   "outputs": [],
   "source": [
    "# only keep relevant genres\n",
    "sorted_genres = sorted_genres[sorted_genres.values > 1]"
   ]
  },
  {
   "cell_type": "code",
   "execution_count": 35,
   "metadata": {},
   "outputs": [],
   "source": [
    "genre_movies = genre_movies[sorted_genres.index]"
   ]
  },
  {
   "cell_type": "code",
   "execution_count": 36,
   "metadata": {},
   "outputs": [
    {
     "data": {
      "text/plain": "genre\nDrama              [524, 4584, 1710, 12665, 451, 16420, 17015, 37...\nComedy             [31357, 11862, 11860, 9087, 12110, 8012, 9263,...\nAction             [949, 45325, 9091, 1408, 11517, 9691, 11443, 9...\nDocumentary        [124626, 63076, 89333, 51352, 123360, 26564, 5...\nHorror             [755, 9102, 34574, 628, 56428, 92769, 9059, 11...\nCrime              [5, 9273, 807, 2086, 96357, 103, 33542, 30157,...\nThriller           [99040, 8068, 48787, 79593, 18256, 61813, 1839...\nAdventure          [8844, 710, 139405, 10530, 11359, 17414, 11780...\nRomance            [15602, 78802, 146599, 22279, 2293, 1909, 1578...\nAnimation          [862, 22586, 18242, 812, 10895, 11827, 10112, ...\nFantasy            [902, 9598, 577, 27793, 8839, 11980, 58372, 43...\nScience Fiction    [63, 9482, 9348, 63105, 193, 78, 8069, 62, 601...\nMystery            [20649, 8973, 26203, 23210, 426, 213, 963, 15,...\nFamily             [21032, 46785, 8587, 1634, 41579, 532, 110465,...\nMusic              [2054, 124636, 202425, 13320, 176841, 9716, 52...\nWestern            [19176, 34444, 87190, 150823, 429, 335, 33, 28...\nTV Movie           [53185, 4975, 445590, 45069, 258236, 839, 2510...\nWar                [11902, 27098, 11876, 124645, 151489, 43488, 3...\nHistory            [10858, 47018, 10954, 11450, 35588, 31642, 333...\nForeign            [125764, 46364, 35265, 35072, 47850, 17099, 75...\nName: movie_id, dtype: object"
     },
     "execution_count": 36,
     "metadata": {},
     "output_type": "execute_result"
    }
   ],
   "source": [
    "genre_movies"
   ]
  },
  {
   "cell_type": "code",
   "execution_count": 36,
   "metadata": {},
   "outputs": [],
   "source": []
  },
  {
   "cell_type": "markdown",
   "metadata": {},
   "source": [
    "# 3. Actors and movies"
   ]
  },
  {
   "cell_type": "code",
   "execution_count": 37,
   "metadata": {},
   "outputs": [],
   "source": [
    "# extract all actors\n",
    "cast_in_movie = []\n",
    "for _, r in credits.iterrows():\n",
    "    for g in ast.literal_eval(r.cast):\n",
    "        cast_in_movie.append([g[\"name\"], r.id])"
   ]
  },
  {
   "cell_type": "code",
   "execution_count": 38,
   "metadata": {},
   "outputs": [],
   "source": [
    "# convert actor movie to dataframe\n",
    "cast_in_movie = pd.DataFrame(cast_in_movie)\n",
    "cast_in_movie.columns = [\"actor\", \"movie_id\"]"
   ]
  },
  {
   "cell_type": "code",
   "execution_count": 39,
   "metadata": {},
   "outputs": [],
   "source": [
    "# group actors and count number of movies + sort\n",
    "sorted_actors = cast_in_movie.groupby('actor').count().rename(columns={\"movie_id\": \"movie_count\"}).sort_values(by=\"movie_count\", ascending=False)"
   ]
  },
  {
   "cell_type": "code",
   "execution_count": 40,
   "metadata": {},
   "outputs": [],
   "source": [
    "# keep only actors that were in 20 or more movies\n",
    "top_actors = sorted_actors[sorted_actors.movie_count >= 20]"
   ]
  },
  {
   "cell_type": "code",
   "execution_count": 41,
   "metadata": {},
   "outputs": [],
   "source": [
    "actor_movie = cast_in_movie[cast_in_movie.actor.isin(top_actors.index)]\n"
   ]
  },
  {
   "cell_type": "code",
   "execution_count": 42,
   "metadata": {},
   "outputs": [],
   "source": [
    "def extract_ids(rows):\n",
    "    def get_intersection(ids):\n",
    "        # print(set(ids))\n",
    "        return set(map(int, ids)).intersection(set(rows.movie_id))\n",
    "    return genre_movies.apply(get_intersection)"
   ]
  },
  {
   "cell_type": "code",
   "execution_count": 43,
   "metadata": {},
   "outputs": [],
   "source": [
    "actors_genres_movies = actor_movie.groupby('actor').apply(extract_ids)"
   ]
  },
  {
   "cell_type": "code",
   "execution_count": 44,
   "metadata": {},
   "outputs": [],
   "source": [
    "actors_genres_movies.to_json('docs/data/actors_genres_movies.json', 'index')"
   ]
  },
  {
   "cell_type": "code",
   "execution_count": 45,
   "outputs": [],
   "source": [
    "movies[\"budget\"] = pd.to_numeric(movies[\"budget\"], errors='coerce')"
   ],
   "metadata": {
    "collapsed": false,
    "pycharm": {
     "name": "#%%\n"
    }
   }
  },
  {
   "cell_type": "code",
   "execution_count": 46,
   "metadata": {},
   "outputs": [
    {
     "data": {
      "text/plain": "        adult                              belongs_to_collection      budget  \\\nid                                                                             \n862     False  {'id': 10194, 'name': 'Toy Story Collection', ...  30000000.0   \n8844    False                                                NaN  65000000.0   \n15602   False  {'id': 119050, 'name': 'Grumpy Old Men Collect...         0.0   \n31357   False                                                NaN  16000000.0   \n11862   False  {'id': 96871, 'name': 'Father of the Bride Col...         0.0   \n...       ...                                                ...         ...   \n439050  False                                                NaN         0.0   \n111109  False                                                NaN         0.0   \n67758   False                                                NaN         0.0   \n227506  False                                                NaN         0.0   \n461257  False                                                NaN         0.0   \n\n                                                   genres  \\\nid                                                          \n862     [{'id': 16, 'name': 'Animation'}, {'id': 35, '...   \n8844    [{'id': 12, 'name': 'Adventure'}, {'id': 14, '...   \n15602   [{'id': 10749, 'name': 'Romance'}, {'id': 35, ...   \n31357   [{'id': 35, 'name': 'Comedy'}, {'id': 18, 'nam...   \n11862                      [{'id': 35, 'name': 'Comedy'}]   \n...                                                   ...   \n439050  [{'id': 18, 'name': 'Drama'}, {'id': 10751, 'n...   \n111109                      [{'id': 18, 'name': 'Drama'}]   \n67758   [{'id': 28, 'name': 'Action'}, {'id': 18, 'nam...   \n227506                                                 []   \n461257                                                 []   \n\n                                    homepage    imdb_id original_language  \\\nid                                                                          \n862     http://toystory.disney.com/toy-story  tt0114709                en   \n8844                                     NaN  tt0113497                en   \n15602                                    NaN  tt0113228                en   \n31357                                    NaN  tt0114885                en   \n11862                                    NaN  tt0113041                en   \n...                                      ...        ...               ...   \n439050  http://www.imdb.com/title/tt6209470/  tt6209470                fa   \n111109                                   NaN  tt2028550                tl   \n67758                                    NaN  tt0303758                en   \n227506                                   NaN  tt0008536                en   \n461257                                   NaN  tt6980792                en   \n\n                     original_title  \\\nid                                    \n862                       Toy Story   \n8844                        Jumanji   \n15602              Grumpier Old Men   \n31357             Waiting to Exhale   \n11862   Father of the Bride Part II   \n...                             ...   \n439050                      رگ خواب   \n111109          Siglo ng Pagluluwal   \n67758                      Betrayal   \n227506          Satana likuyushchiy   \n461257                     Queerama   \n\n                                                 overview popularity  ...  \\\nid                                                                    ...   \n862     Led by Woody, Andy's toys live happily in his ...  21.946943  ...   \n8844    When siblings Judy and Peter discover an encha...  17.015539  ...   \n15602   A family wedding reignites the ancient feud be...    11.7129  ...   \n31357   Cheated on, mistreated and stepped on, the wom...   3.859495  ...   \n11862   Just when George Banks has recovered from his ...   8.387519  ...   \n...                                                   ...        ...  ...   \n439050        Rising and falling between a man and woman.   0.072051  ...   \n111109  An artist struggles to finish his work while a...   0.178241  ...   \n67758   When one of her hits goes wrong, a professiona...   0.903007  ...   \n227506  In a small town live two brothers, one a minis...   0.003503  ...   \n461257  50 years after decriminalisation of homosexual...   0.163015  ...   \n\n       release_date      revenue runtime  \\\nid                                         \n862      1995-10-30  373554033.0    81.0   \n8844     1995-12-15  262797249.0   104.0   \n15602    1995-12-22          0.0   101.0   \n31357    1995-12-22   81452156.0   127.0   \n11862    1995-02-10   76578911.0   106.0   \n...             ...          ...     ...   \n439050          NaN          0.0    90.0   \n111109   2011-11-17          0.0   360.0   \n67758    2003-08-01          0.0    90.0   \n227506   1917-10-21          0.0    87.0   \n461257   2017-06-09          0.0    75.0   \n\n                                         spoken_languages    status  \\\nid                                                                    \n862              [{'iso_639_1': 'en', 'name': 'English'}]  Released   \n8844    [{'iso_639_1': 'en', 'name': 'English'}, {'iso...  Released   \n15602            [{'iso_639_1': 'en', 'name': 'English'}]  Released   \n31357            [{'iso_639_1': 'en', 'name': 'English'}]  Released   \n11862            [{'iso_639_1': 'en', 'name': 'English'}]  Released   \n...                                                   ...       ...   \n439050             [{'iso_639_1': 'fa', 'name': 'فارسی'}]  Released   \n111109                  [{'iso_639_1': 'tl', 'name': ''}]  Released   \n67758            [{'iso_639_1': 'en', 'name': 'English'}]  Released   \n227506                                                 []  Released   \n461257           [{'iso_639_1': 'en', 'name': 'English'}]  Released   \n\n                                                  tagline  \\\nid                                                          \n862                                                   NaN   \n8844            Roll the dice and unleash the excitement!   \n15602   Still Yelling. Still Fighting. Still Ready for...   \n31357   Friends are the people who let you be yourself...   \n11862   Just When His World Is Back To Normal... He's ...   \n...                                                   ...   \n439050         Rising and falling between a man and woman   \n111109                                                NaN   \n67758                              A deadly game of wits.   \n227506                                                NaN   \n461257                                                NaN   \n\n                              title  video vote_average vote_count  \nid                                                                  \n862                       Toy Story  False          7.7     5415.0  \n8844                        Jumanji  False          6.9     2413.0  \n15602              Grumpier Old Men  False          6.5       92.0  \n31357             Waiting to Exhale  False          6.1       34.0  \n11862   Father of the Bride Part II  False          5.7      173.0  \n...                             ...    ...          ...        ...  \n439050                       Subdue  False          4.0        1.0  \n111109          Century of Birthing  False          9.0        3.0  \n67758                      Betrayal  False          3.8        6.0  \n227506             Satan Triumphant  False          0.0        0.0  \n461257                     Queerama  False          0.0        0.0  \n\n[45466 rows x 23 columns]",
      "text/html": "<div>\n<style scoped>\n    .dataframe tbody tr th:only-of-type {\n        vertical-align: middle;\n    }\n\n    .dataframe tbody tr th {\n        vertical-align: top;\n    }\n\n    .dataframe thead th {\n        text-align: right;\n    }\n</style>\n<table border=\"1\" class=\"dataframe\">\n  <thead>\n    <tr style=\"text-align: right;\">\n      <th></th>\n      <th>adult</th>\n      <th>belongs_to_collection</th>\n      <th>budget</th>\n      <th>genres</th>\n      <th>homepage</th>\n      <th>imdb_id</th>\n      <th>original_language</th>\n      <th>original_title</th>\n      <th>overview</th>\n      <th>popularity</th>\n      <th>...</th>\n      <th>release_date</th>\n      <th>revenue</th>\n      <th>runtime</th>\n      <th>spoken_languages</th>\n      <th>status</th>\n      <th>tagline</th>\n      <th>title</th>\n      <th>video</th>\n      <th>vote_average</th>\n      <th>vote_count</th>\n    </tr>\n    <tr>\n      <th>id</th>\n      <th></th>\n      <th></th>\n      <th></th>\n      <th></th>\n      <th></th>\n      <th></th>\n      <th></th>\n      <th></th>\n      <th></th>\n      <th></th>\n      <th></th>\n      <th></th>\n      <th></th>\n      <th></th>\n      <th></th>\n      <th></th>\n      <th></th>\n      <th></th>\n      <th></th>\n      <th></th>\n      <th></th>\n    </tr>\n  </thead>\n  <tbody>\n    <tr>\n      <th>862</th>\n      <td>False</td>\n      <td>{'id': 10194, 'name': 'Toy Story Collection', ...</td>\n      <td>30000000.0</td>\n      <td>[{'id': 16, 'name': 'Animation'}, {'id': 35, '...</td>\n      <td>http://toystory.disney.com/toy-story</td>\n      <td>tt0114709</td>\n      <td>en</td>\n      <td>Toy Story</td>\n      <td>Led by Woody, Andy's toys live happily in his ...</td>\n      <td>21.946943</td>\n      <td>...</td>\n      <td>1995-10-30</td>\n      <td>373554033.0</td>\n      <td>81.0</td>\n      <td>[{'iso_639_1': 'en', 'name': 'English'}]</td>\n      <td>Released</td>\n      <td>NaN</td>\n      <td>Toy Story</td>\n      <td>False</td>\n      <td>7.7</td>\n      <td>5415.0</td>\n    </tr>\n    <tr>\n      <th>8844</th>\n      <td>False</td>\n      <td>NaN</td>\n      <td>65000000.0</td>\n      <td>[{'id': 12, 'name': 'Adventure'}, {'id': 14, '...</td>\n      <td>NaN</td>\n      <td>tt0113497</td>\n      <td>en</td>\n      <td>Jumanji</td>\n      <td>When siblings Judy and Peter discover an encha...</td>\n      <td>17.015539</td>\n      <td>...</td>\n      <td>1995-12-15</td>\n      <td>262797249.0</td>\n      <td>104.0</td>\n      <td>[{'iso_639_1': 'en', 'name': 'English'}, {'iso...</td>\n      <td>Released</td>\n      <td>Roll the dice and unleash the excitement!</td>\n      <td>Jumanji</td>\n      <td>False</td>\n      <td>6.9</td>\n      <td>2413.0</td>\n    </tr>\n    <tr>\n      <th>15602</th>\n      <td>False</td>\n      <td>{'id': 119050, 'name': 'Grumpy Old Men Collect...</td>\n      <td>0.0</td>\n      <td>[{'id': 10749, 'name': 'Romance'}, {'id': 35, ...</td>\n      <td>NaN</td>\n      <td>tt0113228</td>\n      <td>en</td>\n      <td>Grumpier Old Men</td>\n      <td>A family wedding reignites the ancient feud be...</td>\n      <td>11.7129</td>\n      <td>...</td>\n      <td>1995-12-22</td>\n      <td>0.0</td>\n      <td>101.0</td>\n      <td>[{'iso_639_1': 'en', 'name': 'English'}]</td>\n      <td>Released</td>\n      <td>Still Yelling. Still Fighting. Still Ready for...</td>\n      <td>Grumpier Old Men</td>\n      <td>False</td>\n      <td>6.5</td>\n      <td>92.0</td>\n    </tr>\n    <tr>\n      <th>31357</th>\n      <td>False</td>\n      <td>NaN</td>\n      <td>16000000.0</td>\n      <td>[{'id': 35, 'name': 'Comedy'}, {'id': 18, 'nam...</td>\n      <td>NaN</td>\n      <td>tt0114885</td>\n      <td>en</td>\n      <td>Waiting to Exhale</td>\n      <td>Cheated on, mistreated and stepped on, the wom...</td>\n      <td>3.859495</td>\n      <td>...</td>\n      <td>1995-12-22</td>\n      <td>81452156.0</td>\n      <td>127.0</td>\n      <td>[{'iso_639_1': 'en', 'name': 'English'}]</td>\n      <td>Released</td>\n      <td>Friends are the people who let you be yourself...</td>\n      <td>Waiting to Exhale</td>\n      <td>False</td>\n      <td>6.1</td>\n      <td>34.0</td>\n    </tr>\n    <tr>\n      <th>11862</th>\n      <td>False</td>\n      <td>{'id': 96871, 'name': 'Father of the Bride Col...</td>\n      <td>0.0</td>\n      <td>[{'id': 35, 'name': 'Comedy'}]</td>\n      <td>NaN</td>\n      <td>tt0113041</td>\n      <td>en</td>\n      <td>Father of the Bride Part II</td>\n      <td>Just when George Banks has recovered from his ...</td>\n      <td>8.387519</td>\n      <td>...</td>\n      <td>1995-02-10</td>\n      <td>76578911.0</td>\n      <td>106.0</td>\n      <td>[{'iso_639_1': 'en', 'name': 'English'}]</td>\n      <td>Released</td>\n      <td>Just When His World Is Back To Normal... He's ...</td>\n      <td>Father of the Bride Part II</td>\n      <td>False</td>\n      <td>5.7</td>\n      <td>173.0</td>\n    </tr>\n    <tr>\n      <th>...</th>\n      <td>...</td>\n      <td>...</td>\n      <td>...</td>\n      <td>...</td>\n      <td>...</td>\n      <td>...</td>\n      <td>...</td>\n      <td>...</td>\n      <td>...</td>\n      <td>...</td>\n      <td>...</td>\n      <td>...</td>\n      <td>...</td>\n      <td>...</td>\n      <td>...</td>\n      <td>...</td>\n      <td>...</td>\n      <td>...</td>\n      <td>...</td>\n      <td>...</td>\n      <td>...</td>\n    </tr>\n    <tr>\n      <th>439050</th>\n      <td>False</td>\n      <td>NaN</td>\n      <td>0.0</td>\n      <td>[{'id': 18, 'name': 'Drama'}, {'id': 10751, 'n...</td>\n      <td>http://www.imdb.com/title/tt6209470/</td>\n      <td>tt6209470</td>\n      <td>fa</td>\n      <td>رگ خواب</td>\n      <td>Rising and falling between a man and woman.</td>\n      <td>0.072051</td>\n      <td>...</td>\n      <td>NaN</td>\n      <td>0.0</td>\n      <td>90.0</td>\n      <td>[{'iso_639_1': 'fa', 'name': 'فارسی'}]</td>\n      <td>Released</td>\n      <td>Rising and falling between a man and woman</td>\n      <td>Subdue</td>\n      <td>False</td>\n      <td>4.0</td>\n      <td>1.0</td>\n    </tr>\n    <tr>\n      <th>111109</th>\n      <td>False</td>\n      <td>NaN</td>\n      <td>0.0</td>\n      <td>[{'id': 18, 'name': 'Drama'}]</td>\n      <td>NaN</td>\n      <td>tt2028550</td>\n      <td>tl</td>\n      <td>Siglo ng Pagluluwal</td>\n      <td>An artist struggles to finish his work while a...</td>\n      <td>0.178241</td>\n      <td>...</td>\n      <td>2011-11-17</td>\n      <td>0.0</td>\n      <td>360.0</td>\n      <td>[{'iso_639_1': 'tl', 'name': ''}]</td>\n      <td>Released</td>\n      <td>NaN</td>\n      <td>Century of Birthing</td>\n      <td>False</td>\n      <td>9.0</td>\n      <td>3.0</td>\n    </tr>\n    <tr>\n      <th>67758</th>\n      <td>False</td>\n      <td>NaN</td>\n      <td>0.0</td>\n      <td>[{'id': 28, 'name': 'Action'}, {'id': 18, 'nam...</td>\n      <td>NaN</td>\n      <td>tt0303758</td>\n      <td>en</td>\n      <td>Betrayal</td>\n      <td>When one of her hits goes wrong, a professiona...</td>\n      <td>0.903007</td>\n      <td>...</td>\n      <td>2003-08-01</td>\n      <td>0.0</td>\n      <td>90.0</td>\n      <td>[{'iso_639_1': 'en', 'name': 'English'}]</td>\n      <td>Released</td>\n      <td>A deadly game of wits.</td>\n      <td>Betrayal</td>\n      <td>False</td>\n      <td>3.8</td>\n      <td>6.0</td>\n    </tr>\n    <tr>\n      <th>227506</th>\n      <td>False</td>\n      <td>NaN</td>\n      <td>0.0</td>\n      <td>[]</td>\n      <td>NaN</td>\n      <td>tt0008536</td>\n      <td>en</td>\n      <td>Satana likuyushchiy</td>\n      <td>In a small town live two brothers, one a minis...</td>\n      <td>0.003503</td>\n      <td>...</td>\n      <td>1917-10-21</td>\n      <td>0.0</td>\n      <td>87.0</td>\n      <td>[]</td>\n      <td>Released</td>\n      <td>NaN</td>\n      <td>Satan Triumphant</td>\n      <td>False</td>\n      <td>0.0</td>\n      <td>0.0</td>\n    </tr>\n    <tr>\n      <th>461257</th>\n      <td>False</td>\n      <td>NaN</td>\n      <td>0.0</td>\n      <td>[]</td>\n      <td>NaN</td>\n      <td>tt6980792</td>\n      <td>en</td>\n      <td>Queerama</td>\n      <td>50 years after decriminalisation of homosexual...</td>\n      <td>0.163015</td>\n      <td>...</td>\n      <td>2017-06-09</td>\n      <td>0.0</td>\n      <td>75.0</td>\n      <td>[{'iso_639_1': 'en', 'name': 'English'}]</td>\n      <td>Released</td>\n      <td>NaN</td>\n      <td>Queerama</td>\n      <td>False</td>\n      <td>0.0</td>\n      <td>0.0</td>\n    </tr>\n  </tbody>\n</table>\n<p>45466 rows × 23 columns</p>\n</div>"
     },
     "execution_count": 46,
     "metadata": {},
     "output_type": "execute_result"
    }
   ],
   "source": [
    "movies"
   ]
  },
  {
   "cell_type": "code",
   "execution_count": 47,
   "metadata": {},
   "outputs": [],
   "source": [
    "movies = movies[~movies.index.duplicated()]"
   ]
  },
  {
   "cell_type": "code",
   "execution_count": 48,
   "metadata": {},
   "outputs": [],
   "source": [
    "movies.to_json('docs/data/movies.json', 'index')"
   ]
  },
  {
   "cell_type": "code",
   "execution_count": 48,
   "metadata": {},
   "outputs": [],
   "source": []
  }
 ],
 "metadata": {
  "interpreter": {
   "hash": "78cdafec93e413fa4a819decba57ed174f885af0befa54c1bdc3595368129811"
  },
  "kernelspec": {
   "display_name": "Python 3.8.12 ('ada')",
   "language": "python",
   "name": "python3"
  },
  "language_info": {
   "codemirror_mode": {
    "name": "ipython",
    "version": 3
   },
   "file_extension": ".py",
   "mimetype": "text/x-python",
   "name": "python",
   "nbconvert_exporter": "python",
   "pygments_lexer": "ipython3",
   "version": "3.8.12"
  },
  "orig_nbformat": 4
 },
 "nbformat": 4,
 "nbformat_minor": 2
}