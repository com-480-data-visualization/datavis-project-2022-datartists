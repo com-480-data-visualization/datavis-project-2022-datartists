{
 "cells": [
  {
   "cell_type": "code",
   "execution_count": 1,
   "metadata": {},
   "outputs": [],
   "source": [
    "import pandas as pd\n",
    "import numpy as np\n",
    "import ast\n",
    "import matplotlib.pyplot as pltx\n",
    "import networkx as nx\n",
    "\n",
    "%load_ext autoreload\n",
    "%autoreload 2"
   ]
  },
  {
   "cell_type": "markdown",
   "metadata": {},
   "source": [
    "## Skip until *Create network ...* (everything before is pre-processing)"
   ]
  },
  {
   "cell_type": "markdown",
   "metadata": {},
   "source": [
    "### Loading data"
   ]
  },
  {
   "cell_type": "code",
   "execution_count": 2,
   "metadata": {},
   "outputs": [
    {
     "name": "stderr",
     "output_type": "stream",
     "text": [
      "/Users/hugo/opt/anaconda3/envs/ada/lib/python3.8/site-packages/IPython/core/interactiveshell.py:3444: DtypeWarning: Columns (10) have mixed types.Specify dtype option on import or set low_memory=False.\n",
      "  exec(code_obj, self.user_global_ns, self.user_ns)\n"
     ]
    }
   ],
   "source": [
    "# reading the csv as data frames\n",
    "movies = pd.read_csv('../data/movies_metadata.csv')\n",
    "credits = pd.read_csv('../data/credits.csv')\n",
    "\n",
    "# set movie id as index\n",
    "movies.set_index('id', inplace=True)"
   ]
  },
  {
   "cell_type": "markdown",
   "metadata": {},
   "source": [
    "### Extracting actors (from the exploration notebook)"
   ]
  },
  {
   "cell_type": "code",
   "execution_count": 3,
   "metadata": {},
   "outputs": [],
   "source": [
    "# extract all actors\n",
    "cast_in_movie = []\n",
    "for _, r in credits.cast.iteritems():\n",
    "    for g in ast.literal_eval(r):\n",
    "        cast_in_movie.append([g[\"name\"], g[\"id\"]])\n",
    "\n",
    "# convert actor movie to dataframe\n",
    "cast_in_movie = pd.DataFrame(cast_in_movie)\n",
    "cast_in_movie.columns = [\"actor\", \"movie_id\"]"
   ]
  },
  {
   "cell_type": "code",
   "execution_count": 4,
   "metadata": {},
   "outputs": [],
   "source": [
    "# group actors and count number of movies + sort\n",
    "sorted_actors = cast_in_movie.groupby('actor').count().rename(columns={\"movie_id\": \"movie_count\"}).sort_values(by=\"movie_count\", ascending=False)\n",
    "\n",
    "# keep only actors that were in 20 or more movies\n",
    "top_actors = sorted_actors[sorted_actors.movie_count >= 20]"
   ]
  },
  {
   "cell_type": "code",
   "execution_count": 5,
   "metadata": {},
   "outputs": [
    {
     "data": {
      "text/html": [
       "<div>\n",
       "<style scoped>\n",
       "    .dataframe tbody tr th:only-of-type {\n",
       "        vertical-align: middle;\n",
       "    }\n",
       "\n",
       "    .dataframe tbody tr th {\n",
       "        vertical-align: top;\n",
       "    }\n",
       "\n",
       "    .dataframe thead th {\n",
       "        text-align: right;\n",
       "    }\n",
       "</style>\n",
       "<table border=\"1\" class=\"dataframe\">\n",
       "  <thead>\n",
       "    <tr style=\"text-align: right;\">\n",
       "      <th></th>\n",
       "      <th>movie_count</th>\n",
       "    </tr>\n",
       "    <tr>\n",
       "      <th>actor</th>\n",
       "      <th></th>\n",
       "    </tr>\n",
       "  </thead>\n",
       "  <tbody>\n",
       "    <tr>\n",
       "      <th>Bess Flowers</th>\n",
       "      <td>241</td>\n",
       "    </tr>\n",
       "    <tr>\n",
       "      <th>Christopher Lee</th>\n",
       "      <td>148</td>\n",
       "    </tr>\n",
       "    <tr>\n",
       "      <th>John Wayne</th>\n",
       "      <td>125</td>\n",
       "    </tr>\n",
       "    <tr>\n",
       "      <th>Samuel L. Jackson</th>\n",
       "      <td>123</td>\n",
       "    </tr>\n",
       "    <tr>\n",
       "      <th>Gérard Depardieu</th>\n",
       "      <td>110</td>\n",
       "    </tr>\n",
       "    <tr>\n",
       "      <th>...</th>\n",
       "      <td>...</td>\n",
       "    </tr>\n",
       "    <tr>\n",
       "      <th>Tony Roberts</th>\n",
       "      <td>20</td>\n",
       "    </tr>\n",
       "    <tr>\n",
       "      <th>Vic Tayback</th>\n",
       "      <td>20</td>\n",
       "    </tr>\n",
       "    <tr>\n",
       "      <th>Andrew Duggan</th>\n",
       "      <td>20</td>\n",
       "    </tr>\n",
       "    <tr>\n",
       "      <th>Donnie Wahlberg</th>\n",
       "      <td>20</td>\n",
       "    </tr>\n",
       "    <tr>\n",
       "      <th>Linda Blair</th>\n",
       "      <td>20</td>\n",
       "    </tr>\n",
       "  </tbody>\n",
       "</table>\n",
       "<p>3776 rows × 1 columns</p>\n",
       "</div>"
      ],
      "text/plain": [
       "                   movie_count\n",
       "actor                         \n",
       "Bess Flowers               241\n",
       "Christopher Lee            148\n",
       "John Wayne                 125\n",
       "Samuel L. Jackson          123\n",
       "Gérard Depardieu           110\n",
       "...                        ...\n",
       "Tony Roberts                20\n",
       "Vic Tayback                 20\n",
       "Andrew Duggan               20\n",
       "Donnie Wahlberg             20\n",
       "Linda Blair                 20\n",
       "\n",
       "[3776 rows x 1 columns]"
      ]
     },
     "execution_count": 5,
     "metadata": {},
     "output_type": "execute_result"
    }
   ],
   "source": [
    "top_actors"
   ]
  },
  {
   "cell_type": "markdown",
   "metadata": {},
   "source": [
    "**Create actor nodes dataframe**"
   ]
  },
  {
   "cell_type": "code",
   "execution_count": 6,
   "metadata": {},
   "outputs": [],
   "source": [
    "actor_nodes = pd.DataFrame(top_actors.index).rename(columns={'actor': 'id'})\n",
    "# write to json\n",
    "actor_nodes.to_json('small_data/actor_nodes.json', orient='records')"
   ]
  },
  {
   "cell_type": "markdown",
   "metadata": {},
   "source": [
    "### Get list of actors per movie id"
   ]
  },
  {
   "cell_type": "code",
   "execution_count": 6,
   "metadata": {},
   "outputs": [],
   "source": [
    "# extract the list of actors for a movie\n",
    "def get_actors(cast):\n",
    "    cast_actors = []\n",
    "    for x in ast.literal_eval(cast):\n",
    "        # filter for actors with more than 20 movies\n",
    "        if x['name'] in top_actors.index:\n",
    "            cast_actors.append(x['name'])\n",
    "\n",
    "    return cast_actors"
   ]
  },
  {
   "cell_type": "code",
   "execution_count": 7,
   "metadata": {},
   "outputs": [],
   "source": [
    "movie_cast = credits[['cast', 'id']]\n",
    "# extract the list of actors for each movies \n",
    "movie_cast['actors'] = movie_cast.cast.apply(lambda x: get_actors(x))\n",
    "movie_cast = movie_cast.drop('cast', axis=1)"
   ]
  },
  {
   "cell_type": "code",
   "execution_count": 8,
   "metadata": {},
   "outputs": [],
   "source": [
    "movie_cast.rename(columns={'id': 'movie_id'})\n",
    "# remove movies with an empty list of selected actors\n",
    "movie_cast = movie_cast[movie_cast.actors.apply(lambda x: len(x) > 0)]"
   ]
  },
  {
   "cell_type": "code",
   "execution_count": 9,
   "metadata": {},
   "outputs": [
    {
     "data": {
      "text/html": [
       "<div>\n",
       "<style scoped>\n",
       "    .dataframe tbody tr th:only-of-type {\n",
       "        vertical-align: middle;\n",
       "    }\n",
       "\n",
       "    .dataframe tbody tr th {\n",
       "        vertical-align: top;\n",
       "    }\n",
       "\n",
       "    .dataframe thead th {\n",
       "        text-align: right;\n",
       "    }\n",
       "</style>\n",
       "<table border=\"1\" class=\"dataframe\">\n",
       "  <thead>\n",
       "    <tr style=\"text-align: right;\">\n",
       "      <th></th>\n",
       "      <th>id</th>\n",
       "      <th>actors</th>\n",
       "    </tr>\n",
       "  </thead>\n",
       "  <tbody>\n",
       "    <tr>\n",
       "      <th>0</th>\n",
       "      <td>862</td>\n",
       "      <td>[Tom Hanks, Tim Allen, Don Rickles, Jim Varney...</td>\n",
       "    </tr>\n",
       "    <tr>\n",
       "      <th>1</th>\n",
       "      <td>8844</td>\n",
       "      <td>[Robin Williams, Kirsten Dunst, Bonnie Hunt, B...</td>\n",
       "    </tr>\n",
       "    <tr>\n",
       "      <th>2</th>\n",
       "      <td>15602</td>\n",
       "      <td>[Walter Matthau, Jack Lemmon, Ann-Margret, Sop...</td>\n",
       "    </tr>\n",
       "    <tr>\n",
       "      <th>3</th>\n",
       "      <td>31357</td>\n",
       "      <td>[Angela Bassett, Loretta Devine, Dennis Haysbe...</td>\n",
       "    </tr>\n",
       "    <tr>\n",
       "      <th>4</th>\n",
       "      <td>11862</td>\n",
       "      <td>[Steve Martin, Diane Keaton, Martin Short, Geo...</td>\n",
       "    </tr>\n",
       "    <tr>\n",
       "      <th>...</th>\n",
       "      <td>...</td>\n",
       "      <td>...</td>\n",
       "    </tr>\n",
       "    <tr>\n",
       "      <th>45467</th>\n",
       "      <td>390959</td>\n",
       "      <td>[James Gleason, Chris Parnell]</td>\n",
       "    </tr>\n",
       "    <tr>\n",
       "      <th>45468</th>\n",
       "      <td>289923</td>\n",
       "      <td>[Joshua Leonard]</td>\n",
       "    </tr>\n",
       "    <tr>\n",
       "      <th>45469</th>\n",
       "      <td>222848</td>\n",
       "      <td>[Ron Jeremy]</td>\n",
       "    </tr>\n",
       "    <tr>\n",
       "      <th>45470</th>\n",
       "      <td>30840</td>\n",
       "      <td>[Patrick Bergin, Uma Thurman, David Morrissey,...</td>\n",
       "    </tr>\n",
       "    <tr>\n",
       "      <th>45473</th>\n",
       "      <td>67758</td>\n",
       "      <td>[Adam Baldwin, James Remar, Tom Wright]</td>\n",
       "    </tr>\n",
       "  </tbody>\n",
       "</table>\n",
       "<p>29818 rows × 2 columns</p>\n",
       "</div>"
      ],
      "text/plain": [
       "           id                                             actors\n",
       "0         862  [Tom Hanks, Tim Allen, Don Rickles, Jim Varney...\n",
       "1        8844  [Robin Williams, Kirsten Dunst, Bonnie Hunt, B...\n",
       "2       15602  [Walter Matthau, Jack Lemmon, Ann-Margret, Sop...\n",
       "3       31357  [Angela Bassett, Loretta Devine, Dennis Haysbe...\n",
       "4       11862  [Steve Martin, Diane Keaton, Martin Short, Geo...\n",
       "...       ...                                                ...\n",
       "45467  390959                     [James Gleason, Chris Parnell]\n",
       "45468  289923                                   [Joshua Leonard]\n",
       "45469  222848                                       [Ron Jeremy]\n",
       "45470   30840  [Patrick Bergin, Uma Thurman, David Morrissey,...\n",
       "45473   67758            [Adam Baldwin, James Remar, Tom Wright]\n",
       "\n",
       "[29818 rows x 2 columns]"
      ]
     },
     "execution_count": 9,
     "metadata": {},
     "output_type": "execute_result"
    }
   ],
   "source": [
    "movie_cast"
   ]
  },
  {
   "cell_type": "markdown",
   "metadata": {},
   "source": [
    "### Create actor connections "
   ]
  },
  {
   "cell_type": "code",
   "execution_count": 12,
   "metadata": {},
   "outputs": [],
   "source": [
    "def get_connections(list):\n",
    "    # creates list of all possible pairs in list \n",
    "    return [(a,b) for i, a in enumerate(list) for b in list[i + 1:]]"
   ]
  },
  {
   "cell_type": "code",
   "execution_count": 13,
   "metadata": {},
   "outputs": [
    {
     "data": {
      "text/html": [
       "<div>\n",
       "<style scoped>\n",
       "    .dataframe tbody tr th:only-of-type {\n",
       "        vertical-align: middle;\n",
       "    }\n",
       "\n",
       "    .dataframe tbody tr th {\n",
       "        vertical-align: top;\n",
       "    }\n",
       "\n",
       "    .dataframe thead th {\n",
       "        text-align: right;\n",
       "    }\n",
       "</style>\n",
       "<table border=\"1\" class=\"dataframe\">\n",
       "  <thead>\n",
       "    <tr style=\"text-align: right;\">\n",
       "      <th></th>\n",
       "      <th>id</th>\n",
       "      <th>actors</th>\n",
       "    </tr>\n",
       "  </thead>\n",
       "  <tbody>\n",
       "    <tr>\n",
       "      <th>0</th>\n",
       "      <td>862</td>\n",
       "      <td>[Tom Hanks, Tim Allen, Don Rickles, Jim Varney...</td>\n",
       "    </tr>\n",
       "    <tr>\n",
       "      <th>1</th>\n",
       "      <td>8844</td>\n",
       "      <td>[Robin Williams, Kirsten Dunst, Bonnie Hunt, B...</td>\n",
       "    </tr>\n",
       "    <tr>\n",
       "      <th>2</th>\n",
       "      <td>15602</td>\n",
       "      <td>[Walter Matthau, Jack Lemmon, Ann-Margret, Sop...</td>\n",
       "    </tr>\n",
       "    <tr>\n",
       "      <th>3</th>\n",
       "      <td>31357</td>\n",
       "      <td>[Angela Bassett, Loretta Devine, Dennis Haysbe...</td>\n",
       "    </tr>\n",
       "    <tr>\n",
       "      <th>4</th>\n",
       "      <td>11862</td>\n",
       "      <td>[Steve Martin, Diane Keaton, Martin Short, Geo...</td>\n",
       "    </tr>\n",
       "    <tr>\n",
       "      <th>...</th>\n",
       "      <td>...</td>\n",
       "      <td>...</td>\n",
       "    </tr>\n",
       "    <tr>\n",
       "      <th>45467</th>\n",
       "      <td>390959</td>\n",
       "      <td>[James Gleason, Chris Parnell]</td>\n",
       "    </tr>\n",
       "    <tr>\n",
       "      <th>45468</th>\n",
       "      <td>289923</td>\n",
       "      <td>[Joshua Leonard]</td>\n",
       "    </tr>\n",
       "    <tr>\n",
       "      <th>45469</th>\n",
       "      <td>222848</td>\n",
       "      <td>[Ron Jeremy]</td>\n",
       "    </tr>\n",
       "    <tr>\n",
       "      <th>45470</th>\n",
       "      <td>30840</td>\n",
       "      <td>[Patrick Bergin, Uma Thurman, David Morrissey,...</td>\n",
       "    </tr>\n",
       "    <tr>\n",
       "      <th>45473</th>\n",
       "      <td>67758</td>\n",
       "      <td>[Adam Baldwin, James Remar, Tom Wright]</td>\n",
       "    </tr>\n",
       "  </tbody>\n",
       "</table>\n",
       "<p>29818 rows × 2 columns</p>\n",
       "</div>"
      ],
      "text/plain": [
       "           id                                             actors\n",
       "0         862  [Tom Hanks, Tim Allen, Don Rickles, Jim Varney...\n",
       "1        8844  [Robin Williams, Kirsten Dunst, Bonnie Hunt, B...\n",
       "2       15602  [Walter Matthau, Jack Lemmon, Ann-Margret, Sop...\n",
       "3       31357  [Angela Bassett, Loretta Devine, Dennis Haysbe...\n",
       "4       11862  [Steve Martin, Diane Keaton, Martin Short, Geo...\n",
       "...       ...                                                ...\n",
       "45467  390959                     [James Gleason, Chris Parnell]\n",
       "45468  289923                                   [Joshua Leonard]\n",
       "45469  222848                                       [Ron Jeremy]\n",
       "45470   30840  [Patrick Bergin, Uma Thurman, David Morrissey,...\n",
       "45473   67758            [Adam Baldwin, James Remar, Tom Wright]\n",
       "\n",
       "[29818 rows x 2 columns]"
      ]
     },
     "execution_count": 13,
     "metadata": {},
     "output_type": "execute_result"
    }
   ],
   "source": [
    "movie_cast"
   ]
  },
  {
   "cell_type": "code",
   "execution_count": 21,
   "metadata": {},
   "outputs": [],
   "source": [
    "actor_pairs_series = movie_cast.actors.apply(lambda x: get_connections(x)).explode()"
   ]
  },
  {
   "cell_type": "code",
   "execution_count": 18,
   "metadata": {},
   "outputs": [],
   "source": [
    "actor_pairs = movie_cast.actors.apply(lambda x: get_connections(x)).explode().tolist()\n",
    "# cleaning\n",
    "actor_pairs = [x for x in actor_pairs if str(x) != 'nan']"
   ]
  },
  {
   "cell_type": "code",
   "execution_count": 23,
   "metadata": {},
   "outputs": [],
   "source": [
    "actor_pairs_series = actor_pairs_series[actor_pairs_series.apply(lambda x: str(x) != 'nan')]"
   ]
  },
  {
   "cell_type": "code",
   "execution_count": 24,
   "metadata": {},
   "outputs": [
    {
     "data": {
      "text/plain": [
       "0                  (Tom Hanks, Tim Allen)\n",
       "0                (Tom Hanks, Don Rickles)\n",
       "0                 (Tom Hanks, Jim Varney)\n",
       "0              (Tom Hanks, Wallace Shawn)\n",
       "0          (Tom Hanks, John Ratzenberger)\n",
       "                       ...               \n",
       "45470    (David Morrissey, Jeroen Krabbé)\n",
       "45470    (Jürgen Prochnow, Jeroen Krabbé)\n",
       "45473         (Adam Baldwin, James Remar)\n",
       "45473          (Adam Baldwin, Tom Wright)\n",
       "45473           (James Remar, Tom Wright)\n",
       "Name: actors, Length: 414497, dtype: object"
      ]
     },
     "execution_count": 24,
     "metadata": {},
     "output_type": "execute_result"
    }
   ],
   "source": [
    "actor_pairs_series"
   ]
  },
  {
   "cell_type": "code",
   "execution_count": 53,
   "metadata": {},
   "outputs": [],
   "source": [
    "# actor_pairs_series.to_frame().merge(movie_cast, index)\n",
    "pair_movies = movie_cast.drop('actors', axis=1).merge(actor_pairs_series.to_frame(), left_index=True, right_index=True)"
   ]
  },
  {
   "cell_type": "code",
   "execution_count": 54,
   "metadata": {},
   "outputs": [
    {
     "data": {
      "text/html": [
       "<div>\n",
       "<style scoped>\n",
       "    .dataframe tbody tr th:only-of-type {\n",
       "        vertical-align: middle;\n",
       "    }\n",
       "\n",
       "    .dataframe tbody tr th {\n",
       "        vertical-align: top;\n",
       "    }\n",
       "\n",
       "    .dataframe thead th {\n",
       "        text-align: right;\n",
       "    }\n",
       "</style>\n",
       "<table border=\"1\" class=\"dataframe\">\n",
       "  <thead>\n",
       "    <tr style=\"text-align: right;\">\n",
       "      <th></th>\n",
       "      <th>id</th>\n",
       "      <th>actors</th>\n",
       "    </tr>\n",
       "  </thead>\n",
       "  <tbody>\n",
       "    <tr>\n",
       "      <th>0</th>\n",
       "      <td>862</td>\n",
       "      <td>(Tom Hanks, Tim Allen)</td>\n",
       "    </tr>\n",
       "    <tr>\n",
       "      <th>0</th>\n",
       "      <td>862</td>\n",
       "      <td>(Tom Hanks, Don Rickles)</td>\n",
       "    </tr>\n",
       "    <tr>\n",
       "      <th>0</th>\n",
       "      <td>862</td>\n",
       "      <td>(Tom Hanks, Jim Varney)</td>\n",
       "    </tr>\n",
       "    <tr>\n",
       "      <th>0</th>\n",
       "      <td>862</td>\n",
       "      <td>(Tom Hanks, Wallace Shawn)</td>\n",
       "    </tr>\n",
       "    <tr>\n",
       "      <th>0</th>\n",
       "      <td>862</td>\n",
       "      <td>(Tom Hanks, John Ratzenberger)</td>\n",
       "    </tr>\n",
       "    <tr>\n",
       "      <th>...</th>\n",
       "      <td>...</td>\n",
       "      <td>...</td>\n",
       "    </tr>\n",
       "    <tr>\n",
       "      <th>45470</th>\n",
       "      <td>30840</td>\n",
       "      <td>(David Morrissey, Jeroen Krabbé)</td>\n",
       "    </tr>\n",
       "    <tr>\n",
       "      <th>45470</th>\n",
       "      <td>30840</td>\n",
       "      <td>(Jürgen Prochnow, Jeroen Krabbé)</td>\n",
       "    </tr>\n",
       "    <tr>\n",
       "      <th>45473</th>\n",
       "      <td>67758</td>\n",
       "      <td>(Adam Baldwin, James Remar)</td>\n",
       "    </tr>\n",
       "    <tr>\n",
       "      <th>45473</th>\n",
       "      <td>67758</td>\n",
       "      <td>(Adam Baldwin, Tom Wright)</td>\n",
       "    </tr>\n",
       "    <tr>\n",
       "      <th>45473</th>\n",
       "      <td>67758</td>\n",
       "      <td>(James Remar, Tom Wright)</td>\n",
       "    </tr>\n",
       "  </tbody>\n",
       "</table>\n",
       "<p>414497 rows × 2 columns</p>\n",
       "</div>"
      ],
      "text/plain": [
       "          id                            actors\n",
       "0        862            (Tom Hanks, Tim Allen)\n",
       "0        862          (Tom Hanks, Don Rickles)\n",
       "0        862           (Tom Hanks, Jim Varney)\n",
       "0        862        (Tom Hanks, Wallace Shawn)\n",
       "0        862    (Tom Hanks, John Ratzenberger)\n",
       "...      ...                               ...\n",
       "45470  30840  (David Morrissey, Jeroen Krabbé)\n",
       "45470  30840  (Jürgen Prochnow, Jeroen Krabbé)\n",
       "45473  67758       (Adam Baldwin, James Remar)\n",
       "45473  67758        (Adam Baldwin, Tom Wright)\n",
       "45473  67758         (James Remar, Tom Wright)\n",
       "\n",
       "[414497 rows x 2 columns]"
      ]
     },
     "execution_count": 54,
     "metadata": {},
     "output_type": "execute_result"
    }
   ],
   "source": [
    "pair_movies"
   ]
  },
  {
   "cell_type": "code",
   "execution_count": 60,
   "metadata": {},
   "outputs": [],
   "source": [
    "# check if relations in the other direction\n",
    "already = set()\n",
    "def reverse_reversed(actors):\n",
    "    if (actors in already):\n",
    "        return actors[::-1]\n",
    "    else:\n",
    "        already.add(actors[::-1])\n",
    "        return actors\n",
    "pair_movies.actors = pair_movies.actors.apply(reverse_reversed)"
   ]
  },
  {
   "cell_type": "code",
   "execution_count": 61,
   "metadata": {},
   "outputs": [],
   "source": [
    "pair_movies[['source', 'target']] = pair_movies.actors.tolist()"
   ]
  },
  {
   "cell_type": "code",
   "execution_count": 62,
   "metadata": {},
   "outputs": [],
   "source": [
    "pair_movies.drop('actors', axis=1, inplace=True)"
   ]
  },
  {
   "cell_type": "code",
   "execution_count": 63,
   "metadata": {},
   "outputs": [],
   "source": [
    "pair_movies['weight'] = 1\n"
   ]
  },
  {
   "cell_type": "code",
   "execution_count": 64,
   "metadata": {},
   "outputs": [],
   "source": [
    "# remove self-connection\n",
    "pair_movies = pair_movies[pair_movies.source != pair_movies.target]"
   ]
  },
  {
   "cell_type": "code",
   "execution_count": 72,
   "metadata": {},
   "outputs": [],
   "source": [
    "pair_movies = pair_movies.groupby(['source', 'target']).agg({'weight': 'sum', 'id': list})"
   ]
  },
  {
   "cell_type": "code",
   "execution_count": 79,
   "metadata": {},
   "outputs": [],
   "source": [
    "pair_movies.rename({'id': 'movie_ids'}, axis=1, inplace=True)"
   ]
  },
  {
   "cell_type": "code",
   "execution_count": 77,
   "metadata": {},
   "outputs": [],
   "source": [
    "pair_movies.reset_index(inplace=True)"
   ]
  },
  {
   "cell_type": "code",
   "execution_count": 81,
   "metadata": {},
   "outputs": [],
   "source": [
    "pair_movies.to_json('improved_actor_edges.json', orient='records')"
   ]
  }
 ],
 "metadata": {
  "interpreter": {
   "hash": "5e891004f48229f038d8cf47dd64dd521295691cc2d1822ca9a777c6ed44466d"
  },
  "kernelspec": {
   "display_name": "Python 3.8.12 64-bit ('ada': conda)",
   "language": "python",
   "name": "python3"
  },
  "language_info": {
   "codemirror_mode": {
    "name": "ipython",
    "version": 3
   },
   "file_extension": ".py",
   "mimetype": "text/x-python",
   "name": "python",
   "nbconvert_exporter": "python",
   "pygments_lexer": "ipython3",
   "version": "3.8.12"
  },
  "orig_nbformat": 4
 },
 "nbformat": 4,
 "nbformat_minor": 2
}
