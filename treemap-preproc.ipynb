{
 "cells": [
  {
   "cell_type": "code",
   "execution_count": 5,
   "metadata": {},
   "outputs": [
    {
     "name": "stdout",
     "output_type": "stream",
     "text": [
      "The autoreload extension is already loaded. To reload it, use:\n",
      "  %reload_ext autoreload\n"
     ]
    }
   ],
   "source": [
    "import pandas as pd\n",
    "import numpy as np\n",
    "import ast\n",
    "import matplotlib.pyplot as plt\n",
    "\n",
    "%load_ext autoreload\n",
    "%autoreload 2"
   ]
  },
  {
   "cell_type": "markdown",
   "metadata": {},
   "source": [
    "# 1. Loading the data"
   ]
  },
  {
   "cell_type": "code",
   "execution_count": 6,
   "metadata": {},
   "outputs": [
    {
     "name": "stderr",
     "output_type": "stream",
     "text": [
      "/tmp/ipykernel_25629/3431764758.py:2: DtypeWarning: Columns (10) have mixed types. Specify dtype option on import or set low_memory=False.\n",
      "  movies = pd.read_csv('data/movies_metadata.csv')\n"
     ]
    }
   ],
   "source": [
    "# reading the csv as data frames\n",
    "movies = pd.read_csv('data/movies_metadata.csv')\n",
    "credits = pd.read_csv('data/credits.csv')"
   ]
  },
  {
   "cell_type": "code",
   "execution_count": 7,
   "metadata": {},
   "outputs": [],
   "source": [
    "# set movie id as index\n",
    "movies.set_index('id', inplace=True)"
   ]
  },
  {
   "cell_type": "markdown",
   "metadata": {},
   "source": [
    "# 2. Genres"
   ]
  },
  {
   "cell_type": "code",
   "execution_count": 40,
   "metadata": {},
   "outputs": [],
   "source": [
    "# extract all genres\n",
    "genre_in_movie = []\n",
    "for _, row in movies.iterrows():\n",
    "    for g in ast.literal_eval(row.genres):\n",
    "        genre_in_movie.append([g[\"name\"], g[\"id\"]])"
   ]
  },
  {
   "cell_type": "code",
   "execution_count": 41,
   "metadata": {},
   "outputs": [],
   "source": [
    "# convert genre movie to dataframe\n",
    "genre_in_movie = pd.DataFrame(genre_in_movie)\n",
    "genre_in_movie.columns = [\"genre\", \"id\"]\n",
    "genre_in_movie[\"count\"] = 0"
   ]
  },
  {
   "cell_type": "code",
   "execution_count": 46,
   "metadata": {},
   "outputs": [],
   "source": [
    "# group genres and count number of movies + sort\n",
    "sorted_genres = genre_in_movie.groupby(['genre', 'id']).count().sort_values(by=\"id\")"
   ]
  },
  {
   "cell_type": "code",
   "execution_count": 47,
   "metadata": {},
   "outputs": [],
   "source": [
    "# only keep relevant genres and change columns\n",
    "sorted_genres = sorted_genres[sorted_genres.values > 1]\n",
    "sorted_genres.drop(columns=['count'], inplace=True)\n",
    "sorted_genres['color'] = '#000000'"
   ]
  },
  {
   "cell_type": "code",
   "execution_count": 75,
   "metadata": {},
   "outputs": [
    {
     "data": {
      "text/plain": "[{'genre': 'Adventure', 'id': 12, 'color': '#000000'},\n {'genre': 'Fantasy', 'id': 14, 'color': '#000000'},\n {'genre': 'Animation', 'id': 16, 'color': '#000000'},\n {'genre': 'Drama', 'id': 18, 'color': '#000000'},\n {'genre': 'Horror', 'id': 27, 'color': '#000000'},\n {'genre': 'Action', 'id': 28, 'color': '#000000'},\n {'genre': 'Comedy', 'id': 35, 'color': '#000000'},\n {'genre': 'History', 'id': 36, 'color': '#000000'},\n {'genre': 'Western', 'id': 37, 'color': '#000000'},\n {'genre': 'Thriller', 'id': 53, 'color': '#000000'},\n {'genre': 'Crime', 'id': 80, 'color': '#000000'},\n {'genre': 'Documentary', 'id': 99, 'color': '#000000'},\n {'genre': 'Science Fiction', 'id': 878, 'color': '#000000'},\n {'genre': 'Mystery', 'id': 9648, 'color': '#000000'},\n {'genre': 'Music', 'id': 10402, 'color': '#000000'},\n {'genre': 'Romance', 'id': 10749, 'color': '#000000'},\n {'genre': 'Family', 'id': 10751, 'color': '#000000'},\n {'genre': 'War', 'id': 10752, 'color': '#000000'},\n {'genre': 'Foreign', 'id': 10769, 'color': '#000000'},\n {'genre': 'TV Movie', 'id': 10770, 'color': '#000000'}]"
     },
     "execution_count": 75,
     "metadata": {},
     "output_type": "execute_result"
    }
   ],
   "source": [
    "# display genres by usage\n",
    "genres = sorted_genres.reset_index().to_dict('records')\n",
    "genres"
   ]
  },
  {
   "cell_type": "code",
   "execution_count": null,
   "outputs": [],
   "source": [
    "# Define genre colors (partially from https://colorbrewer2.org/#type=qualitative&scheme=Paired&n=12)\n",
    "genres = [\n",
    "    {'genre': 'Adventure', 'id': 12, 'color': '#fdbf6f'},\n",
    "    {'genre': 'Action', 'id': 28, 'color': '#ff7f00'},\n",
    "    {'genre': 'Romance', 'id': 10749, 'color': '#fb9a99'},\n",
    "    {'genre': 'Drama', 'id': 18, 'color': '#e31a1c'},\n",
    "    {'genre': 'Fantasy', 'id': 14, 'color': '#a6cee3'},\n",
    "    {'genre': 'Science Fiction', 'id': 878, 'color': '#1f78b4'},\n",
    "    {'genre': 'Animation', 'id': 16, 'color': '#ffff99'},\n",
    "    {'genre': 'Comedy', 'id': 35, 'color': '#b2df8a'},\n",
    "    {'genre': 'Family', 'id': 10751, 'color': '#33a02c'},\n",
    "    {'genre': 'Horror', 'id': 27, 'color': '#5e7563'},\n",
    "    {'genre': 'Thriller', 'id': 53, 'color': '#2f3b32'},\n",
    "    {'genre': 'Mystery', 'id': 9648, 'color': '#b816b8'},\n",
    "    {'genre': 'Crime', 'id': 80, 'color': '#cab2d6'},\n",
    "    {'genre': 'Western', 'id': 37, 'color': '#b15928'},\n",
    "    {'genre': 'War', 'id': 10752, 'color': '#6a3d9a'},\n",
    "    {'genre': 'Foreign', 'id': 10769, 'color': '#820096'},\n",
    "    {'genre': 'History', 'id': 36, 'color': '#300008'},\n",
    "    {'genre': 'Music', 'id': 10402, 'color': '#e5f53b'},\n",
    "    {'genre': 'Documentary', 'id': 99, 'color': '#1403a6'},\n",
    "    {'genre': 'TV Movie', 'id': 10770, 'color': '#8a6629'}\n",
    "]"
   ],
   "metadata": {
    "collapsed": false,
    "pycharm": {
     "name": "#%%\n"
    }
   }
  },
  {
   "cell_type": "markdown",
   "metadata": {},
   "source": [
    "# 3. Actors and movies"
   ]
  },
  {
   "cell_type": "code",
   "execution_count": 76,
   "metadata": {},
   "outputs": [],
   "source": [
    "# extract all actors\n",
    "cast_in_movie = []\n",
    "for _, r in credits.cast.iteritems():\n",
    "    for g in ast.literal_eval(r):\n",
    "        cast_in_movie.append([g[\"name\"], g[\"id\"]])"
   ]
  },
  {
   "cell_type": "code",
   "execution_count": 77,
   "metadata": {},
   "outputs": [],
   "source": [
    "# convert actor movie to dataframe\n",
    "cast_in_movie = pd.DataFrame(cast_in_movie)\n",
    "cast_in_movie.columns = [\"actor\", \"movie_id\"]"
   ]
  },
  {
   "cell_type": "code",
   "execution_count": 78,
   "metadata": {},
   "outputs": [],
   "source": [
    "# group actors and count number of movies + sort\n",
    "sorted_actors = cast_in_movie.groupby('actor').count().rename(columns={\"movie_id\": \"movie_count\"}).sort_values(by=\"movie_count\", ascending=False)"
   ]
  },
  {
   "cell_type": "code",
   "execution_count": 79,
   "metadata": {},
   "outputs": [
    {
     "data": {
      "text/plain": "(202747, 1)"
     },
     "execution_count": 79,
     "metadata": {},
     "output_type": "execute_result"
    }
   ],
   "source": [
    "# display number of actors\n",
    "sorted_actors.shape"
   ]
  },
  {
   "cell_type": "code",
   "execution_count": 80,
   "metadata": {},
   "outputs": [
    {
     "data": {
      "text/plain": "<Figure size 432x288 with 1 Axes>",
      "image/png": "[encoded data removed]"
     },
     "metadata": {
      "needs_background": "light"
     },
     "output_type": "display_data"
    }
   ],
   "source": [
    "# display histogram of actors with number of movies\n",
    "plt.hist(sorted_actors, bins=50, log=True)\n",
    "plt.xlabel(\"Number of movies\")\n",
    "plt.ylabel(\"Number of actors (log)\")\n",
    "plt.title(\"Distribution of number of actors per total movie count\")\n",
    "plt.savefig(\"plots/actors_distribution.png\")\n",
    "plt.show()"
   ]
  },
  {
   "cell_type": "code",
   "execution_count": 81,
   "metadata": {},
   "outputs": [],
   "source": [
    "# keep only actors that were in 20 or more movies\n",
    "top_actors = sorted_actors[sorted_actors.movie_count >= 20]"
   ]
  },
  {
   "cell_type": "code",
   "execution_count": 82,
   "metadata": {},
   "outputs": [
    {
     "data": {
      "text/plain": "(3776, 1)"
     },
     "execution_count": 82,
     "metadata": {},
     "output_type": "execute_result"
    }
   ],
   "source": [
    "# display number of top actors\n",
    "top_actors.shape"
   ]
  },
  {
   "cell_type": "code",
   "execution_count": 83,
   "metadata": {},
   "outputs": [
    {
     "data": {
      "text/plain": "                   movie_count\nactor                         \nBess Flowers               241\nChristopher Lee            148\nJohn Wayne                 125\nSamuel L. Jackson          123\nGérard Depardieu           110\n...                        ...\nTony Roberts                20\nVic Tayback                 20\nAndrew Duggan               20\nDonnie Wahlberg             20\nLinda Blair                 20\n\n[3776 rows x 1 columns]",
      "text/html": "<div>\n<style scoped>\n    .dataframe tbody tr th:only-of-type {\n        vertical-align: middle;\n    }\n\n    .dataframe tbody tr th {\n        vertical-align: top;\n    }\n\n    .dataframe thead th {\n        text-align: right;\n    }\n</style>\n<table border=\"1\" class=\"dataframe\">\n  <thead>\n    <tr style=\"text-align: right;\">\n      <th></th>\n      <th>movie_count</th>\n    </tr>\n    <tr>\n      <th>actor</th>\n      <th></th>\n    </tr>\n  </thead>\n  <tbody>\n    <tr>\n      <th>Bess Flowers</th>\n      <td>241</td>\n    </tr>\n    <tr>\n      <th>Christopher Lee</th>\n      <td>148</td>\n    </tr>\n    <tr>\n      <th>John Wayne</th>\n      <td>125</td>\n    </tr>\n    <tr>\n      <th>Samuel L. Jackson</th>\n      <td>123</td>\n    </tr>\n    <tr>\n      <th>Gérard Depardieu</th>\n      <td>110</td>\n    </tr>\n    <tr>\n      <th>...</th>\n      <td>...</td>\n    </tr>\n    <tr>\n      <th>Tony Roberts</th>\n      <td>20</td>\n    </tr>\n    <tr>\n      <th>Vic Tayback</th>\n      <td>20</td>\n    </tr>\n    <tr>\n      <th>Andrew Duggan</th>\n      <td>20</td>\n    </tr>\n    <tr>\n      <th>Donnie Wahlberg</th>\n      <td>20</td>\n    </tr>\n    <tr>\n      <th>Linda Blair</th>\n      <td>20</td>\n    </tr>\n  </tbody>\n</table>\n<p>3776 rows × 1 columns</p>\n</div>"
     },
     "execution_count": 83,
     "metadata": {},
     "output_type": "execute_result"
    }
   ],
   "source": [
    "# display top actors\n",
    "top_actors"
   ]
  },
  {
   "cell_type": "code",
   "execution_count": 84,
   "metadata": {},
   "outputs": [
    {
     "data": {
      "text/plain": "<Figure size 432x288 with 1 Axes>",
      "image/png": "[encoded data removed]"
     },
     "metadata": {
      "needs_background": "light"
     },
     "output_type": "display_data"
    }
   ],
   "source": [
    "# display histogram of top actors with number of movies\n",
    "plt.hist(top_actors, bins=50, log=True)\n",
    "plt.xlabel(\"Number of movies\")\n",
    "plt.ylabel(\"Number of actors (log)\")\n",
    "plt.title(\"Distribution of number of (top) actors per total movie count\")\n",
    "plt.show()"
   ]
  },
  {
   "cell_type": "code",
   "execution_count": 85,
   "metadata": {},
   "outputs": [
    {
     "data": {
      "text/plain": "(45466, 23)"
     },
     "execution_count": 85,
     "metadata": {},
     "output_type": "execute_result"
    }
   ],
   "source": [
    "# number of movies \n",
    "movies.shape"
   ]
  },
  {
   "cell_type": "code",
   "execution_count": 86,
   "metadata": {},
   "outputs": [],
   "source": [
    "# get ids of the movies of the top actors\n",
    "top_actors_movies_ids = pd.Series(cast_in_movie[cast_in_movie.actor.isin(top_actors.index)].movie_id.unique()).map(str)"
   ]
  },
  {
   "cell_type": "code",
   "execution_count": 20,
   "metadata": {},
   "outputs": [
    {
     "data": {
      "text/plain": [
       "(3968,)"
      ]
     },
     "execution_count": 20,
     "metadata": {},
     "output_type": "execute_result"
    }
   ],
   "source": [
    "# number of movies of the top actors\n",
    "top_actors_movies_ids.shape"
   ]
  },
  {
   "cell_type": "code",
   "execution_count": 21,
   "metadata": {},
   "outputs": [
    {
     "data": {
      "text/plain": [
       "(1399, 23)"
      ]
     },
     "execution_count": 21,
     "metadata": {},
     "output_type": "execute_result"
    }
   ],
   "source": [
    "# get the movie metadata for those that we have in our dataset\n",
    "top_actors_movies = movies.loc[top_actors_movies_ids[top_actors_movies_ids.isin(movies.index)]]\n",
    "# display filtered number of movies\n",
    "top_actors_movies.shape"
   ]
  },
  {
   "cell_type": "code",
   "execution_count": 22,
   "metadata": {},
   "outputs": [
    {
     "data": {
      "text/html": [
       "<div>\n",
       "<style scoped>\n",
       "    .dataframe tbody tr th:only-of-type {\n",
       "        vertical-align: middle;\n",
       "    }\n",
       "\n",
       "    .dataframe tbody tr th {\n",
       "        vertical-align: top;\n",
       "    }\n",
       "\n",
       "    .dataframe thead th {\n",
       "        text-align: right;\n",
       "    }\n",
       "</style>\n",
       "<table border=\"1\" class=\"dataframe\">\n",
       "  <thead>\n",
       "    <tr style=\"text-align: right;\">\n",
       "      <th></th>\n",
       "      <th>adult</th>\n",
       "      <th>belongs_to_collection</th>\n",
       "      <th>budget</th>\n",
       "      <th>genres</th>\n",
       "      <th>homepage</th>\n",
       "      <th>imdb_id</th>\n",
       "      <th>original_language</th>\n",
       "      <th>original_title</th>\n",
       "      <th>overview</th>\n",
       "      <th>popularity</th>\n",
       "      <th>...</th>\n",
       "      <th>release_date</th>\n",
       "      <th>revenue</th>\n",
       "      <th>runtime</th>\n",
       "      <th>spoken_languages</th>\n",
       "      <th>status</th>\n",
       "      <th>tagline</th>\n",
       "      <th>title</th>\n",
       "      <th>video</th>\n",
       "      <th>vote_average</th>\n",
       "      <th>vote_count</th>\n",
       "    </tr>\n",
       "    <tr>\n",
       "      <th>id</th>\n",
       "      <th></th>\n",
       "      <th></th>\n",
       "      <th></th>\n",
       "      <th></th>\n",
       "      <th></th>\n",
       "      <th></th>\n",
       "      <th></th>\n",
       "      <th></th>\n",
       "      <th></th>\n",
       "      <th></th>\n",
       "      <th></th>\n",
       "      <th></th>\n",
       "      <th></th>\n",
       "      <th></th>\n",
       "      <th></th>\n",
       "      <th></th>\n",
       "      <th></th>\n",
       "      <th></th>\n",
       "      <th></th>\n",
       "      <th></th>\n",
       "      <th></th>\n",
       "    </tr>\n",
       "  </thead>\n",
       "  <tbody>\n",
       "    <tr>\n",
       "      <th>12900</th>\n",
       "      <td>False</td>\n",
       "      <td>NaN</td>\n",
       "      <td>0</td>\n",
       "      <td>[{'id': 18, 'name': 'Drama'}, {'id': 36, 'name...</td>\n",
       "      <td>NaN</td>\n",
       "      <td>tt0266425</td>\n",
       "      <td>en</td>\n",
       "      <td>Conspiracy</td>\n",
       "      <td>The historical recreation of the 1942 Wannsee ...</td>\n",
       "      <td>4.633229</td>\n",
       "      <td>...</td>\n",
       "      <td>2001-05-19</td>\n",
       "      <td>0.0</td>\n",
       "      <td>96.0</td>\n",
       "      <td>[{'iso_639_1': 'en', 'name': 'English'}]</td>\n",
       "      <td>Released</td>\n",
       "      <td>One meeting. Six million lives.</td>\n",
       "      <td>Conspiracy</td>\n",
       "      <td>False</td>\n",
       "      <td>6.9</td>\n",
       "      <td>77.0</td>\n",
       "    </tr>\n",
       "    <tr>\n",
       "      <th>12133</th>\n",
       "      <td>False</td>\n",
       "      <td>NaN</td>\n",
       "      <td>65000000</td>\n",
       "      <td>[{'id': 35, 'name': 'Comedy'}]</td>\n",
       "      <td>NaN</td>\n",
       "      <td>tt0838283</td>\n",
       "      <td>en</td>\n",
       "      <td>Step Brothers</td>\n",
       "      <td>Brennan Huff and Dale Doback might be grown me...</td>\n",
       "      <td>8.579638</td>\n",
       "      <td>...</td>\n",
       "      <td>2008-07-25</td>\n",
       "      <td>128107642.0</td>\n",
       "      <td>98.0</td>\n",
       "      <td>[{'iso_639_1': 'en', 'name': 'English'}, {'iso...</td>\n",
       "      <td>Released</td>\n",
       "      <td>They grow up so fast.</td>\n",
       "      <td>Step Brothers</td>\n",
       "      <td>False</td>\n",
       "      <td>6.5</td>\n",
       "      <td>1084.0</td>\n",
       "    </tr>\n",
       "    <tr>\n",
       "      <th>2157</th>\n",
       "      <td>False</td>\n",
       "      <td>NaN</td>\n",
       "      <td>80000000</td>\n",
       "      <td>[{'id': 12, 'name': 'Adventure'}, {'id': 10751...</td>\n",
       "      <td>NaN</td>\n",
       "      <td>tt0120738</td>\n",
       "      <td>en</td>\n",
       "      <td>Lost in Space</td>\n",
       "      <td>The prospects for continuing life on Earth in ...</td>\n",
       "      <td>12.000579</td>\n",
       "      <td>...</td>\n",
       "      <td>1998-04-03</td>\n",
       "      <td>136159423.0</td>\n",
       "      <td>130.0</td>\n",
       "      <td>[{'iso_639_1': 'en', 'name': 'English'}]</td>\n",
       "      <td>Released</td>\n",
       "      <td>Danger, Will Robinson!</td>\n",
       "      <td>Lost in Space</td>\n",
       "      <td>False</td>\n",
       "      <td>5.0</td>\n",
       "      <td>395.0</td>\n",
       "    </tr>\n",
       "    <tr>\n",
       "      <th>205</th>\n",
       "      <td>False</td>\n",
       "      <td>NaN</td>\n",
       "      <td>17500000</td>\n",
       "      <td>[{'id': 18, 'name': 'Drama'}, {'id': 36, 'name...</td>\n",
       "      <td>http://www.metrofilms.com/hotelrwanda/</td>\n",
       "      <td>tt0395169</td>\n",
       "      <td>en</td>\n",
       "      <td>Hotel Rwanda</td>\n",
       "      <td>Inspired by true events, this film takes place...</td>\n",
       "      <td>10.262332</td>\n",
       "      <td>...</td>\n",
       "      <td>2004-09-11</td>\n",
       "      <td>38000000.0</td>\n",
       "      <td>121.0</td>\n",
       "      <td>[{'iso_639_1': 'en', 'name': 'English'}, {'iso...</td>\n",
       "      <td>Released</td>\n",
       "      <td>When the world closed its eyes, he opened his ...</td>\n",
       "      <td>Hotel Rwanda</td>\n",
       "      <td>False</td>\n",
       "      <td>7.5</td>\n",
       "      <td>805.0</td>\n",
       "    </tr>\n",
       "    <tr>\n",
       "      <th>10739</th>\n",
       "      <td>False</td>\n",
       "      <td>NaN</td>\n",
       "      <td>0</td>\n",
       "      <td>[{'id': 35, 'name': 'Comedy'}, {'id': 10749, '...</td>\n",
       "      <td>NaN</td>\n",
       "      <td>tt0313792</td>\n",
       "      <td>en</td>\n",
       "      <td>Anything Else</td>\n",
       "      <td>Jerry Falk, an aspiring writer in New York, fa...</td>\n",
       "      <td>11.10416</td>\n",
       "      <td>...</td>\n",
       "      <td>2003-08-27</td>\n",
       "      <td>0.0</td>\n",
       "      <td>108.0</td>\n",
       "      <td>[{'iso_639_1': 'en', 'name': 'English'}]</td>\n",
       "      <td>Released</td>\n",
       "      <td>In any relationship one person always does the...</td>\n",
       "      <td>Anything Else</td>\n",
       "      <td>False</td>\n",
       "      <td>6.2</td>\n",
       "      <td>151.0</td>\n",
       "    </tr>\n",
       "  </tbody>\n",
       "</table>\n",
       "<p>5 rows × 23 columns</p>\n",
       "</div>"
      ],
      "text/plain": [
       "       adult belongs_to_collection    budget  \\\n",
       "id                                             \n",
       "12900  False                   NaN         0   \n",
       "12133  False                   NaN  65000000   \n",
       "2157   False                   NaN  80000000   \n",
       "205    False                   NaN  17500000   \n",
       "10739  False                   NaN         0   \n",
       "\n",
       "                                                  genres  \\\n",
       "id                                                         \n",
       "12900  [{'id': 18, 'name': 'Drama'}, {'id': 36, 'name...   \n",
       "12133                     [{'id': 35, 'name': 'Comedy'}]   \n",
       "2157   [{'id': 12, 'name': 'Adventure'}, {'id': 10751...   \n",
       "205    [{'id': 18, 'name': 'Drama'}, {'id': 36, 'name...   \n",
       "10739  [{'id': 35, 'name': 'Comedy'}, {'id': 10749, '...   \n",
       "\n",
       "                                     homepage    imdb_id original_language  \\\n",
       "id                                                                           \n",
       "12900                                     NaN  tt0266425                en   \n",
       "12133                                     NaN  tt0838283                en   \n",
       "2157                                      NaN  tt0120738                en   \n",
       "205    http://www.metrofilms.com/hotelrwanda/  tt0395169                en   \n",
       "10739                                     NaN  tt0313792                en   \n",
       "\n",
       "      original_title                                           overview  \\\n",
       "id                                                                        \n",
       "12900     Conspiracy  The historical recreation of the 1942 Wannsee ...   \n",
       "12133  Step Brothers  Brennan Huff and Dale Doback might be grown me...   \n",
       "2157   Lost in Space  The prospects for continuing life on Earth in ...   \n",
       "205     Hotel Rwanda  Inspired by true events, this film takes place...   \n",
       "10739  Anything Else  Jerry Falk, an aspiring writer in New York, fa...   \n",
       "\n",
       "      popularity  ... release_date      revenue runtime  \\\n",
       "id                ...                                     \n",
       "12900   4.633229  ...   2001-05-19          0.0    96.0   \n",
       "12133   8.579638  ...   2008-07-25  128107642.0    98.0   \n",
       "2157   12.000579  ...   1998-04-03  136159423.0   130.0   \n",
       "205    10.262332  ...   2004-09-11   38000000.0   121.0   \n",
       "10739   11.10416  ...   2003-08-27          0.0   108.0   \n",
       "\n",
       "                                        spoken_languages    status  \\\n",
       "id                                                                   \n",
       "12900           [{'iso_639_1': 'en', 'name': 'English'}]  Released   \n",
       "12133  [{'iso_639_1': 'en', 'name': 'English'}, {'iso...  Released   \n",
       "2157            [{'iso_639_1': 'en', 'name': 'English'}]  Released   \n",
       "205    [{'iso_639_1': 'en', 'name': 'English'}, {'iso...  Released   \n",
       "10739           [{'iso_639_1': 'en', 'name': 'English'}]  Released   \n",
       "\n",
       "                                                 tagline          title  \\\n",
       "id                                                                        \n",
       "12900                    One meeting. Six million lives.     Conspiracy   \n",
       "12133                              They grow up so fast.  Step Brothers   \n",
       "2157                              Danger, Will Robinson!  Lost in Space   \n",
       "205    When the world closed its eyes, he opened his ...   Hotel Rwanda   \n",
       "10739  In any relationship one person always does the...  Anything Else   \n",
       "\n",
       "       video vote_average vote_count  \n",
       "id                                    \n",
       "12900  False          6.9       77.0  \n",
       "12133  False          6.5     1084.0  \n",
       "2157   False          5.0      395.0  \n",
       "205    False          7.5      805.0  \n",
       "10739  False          6.2      151.0  \n",
       "\n",
       "[5 rows x 23 columns]"
      ]
     },
     "execution_count": 22,
     "metadata": {},
     "output_type": "execute_result"
    }
   ],
   "source": [
    "top_actors_movies.head()"
   ]
  },
  {
   "cell_type": "markdown",
   "metadata": {},
   "source": [
    "# 4. Movie revenues and ratings"
   ]
  },
  {
   "cell_type": "code",
   "execution_count": 23,
   "metadata": {},
   "outputs": [
    {
     "data": {
      "text/plain": [
       "11209348.539265288"
      ]
     },
     "execution_count": 23,
     "metadata": {},
     "output_type": "execute_result"
    }
   ],
   "source": [
    "# all movies average revenue\n",
    "movies.revenue.mean()"
   ]
  },
  {
   "cell_type": "code",
   "execution_count": 24,
   "metadata": {},
   "outputs": [
    {
     "data": {
      "text/plain": [
       "31749677.249463905"
      ]
     },
     "execution_count": 24,
     "metadata": {},
     "output_type": "execute_result"
    }
   ],
   "source": [
    "# selected movies average revenue\n",
    "top_actors_movies.revenue.mean()"
   ]
  },
  {
   "cell_type": "code",
   "execution_count": 25,
   "metadata": {},
   "outputs": [
    {
     "data": {
      "text/plain": [
       "5.618207215133889"
      ]
     },
     "execution_count": 25,
     "metadata": {},
     "output_type": "execute_result"
    }
   ],
   "source": [
    "# all movies average rating\n",
    "movies.vote_average.mean()"
   ]
  },
  {
   "cell_type": "code",
   "execution_count": 26,
   "metadata": {},
   "outputs": [
    {
     "data": {
      "text/plain": [
       "6.176769120800578"
      ]
     },
     "execution_count": 26,
     "metadata": {},
     "output_type": "execute_result"
    }
   ],
   "source": [
    "# selected movies average rating\n",
    "top_actors_movies.vote_average.mean()"
   ]
  },
  {
   "cell_type": "code",
   "execution_count": null,
   "metadata": {},
   "outputs": [],
   "source": []
  }
 ],
 "metadata": {
  "interpreter": {
   "hash": "78cdafec93e413fa4a819decba57ed174f885af0befa54c1bdc3595368129811"
  },
  "kernelspec": {
   "display_name": "Python 3.8.12 ('ada')",
   "language": "python",
   "name": "python3"
  },
  "language_info": {
   "codemirror_mode": {
    "name": "ipython",
    "version": 3
   },
   "file_extension": ".py",
   "mimetype": "text/x-python",
   "name": "python",
   "nbconvert_exporter": "python",
   "pygments_lexer": "ipython3",
   "version": "3.8.12"
  },
  "orig_nbformat": 4
 },
 "nbformat": 4,
 "nbformat_minor": 2
}